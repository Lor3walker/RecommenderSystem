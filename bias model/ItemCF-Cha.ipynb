{
 "cells": [
  {
   "cell_type": "code",
   "execution_count": 1,
   "id": "enormous-submission",
   "metadata": {},
   "outputs": [
    {
     "name": "stderr",
     "output_type": "stream",
     "text": [
      "D:\\ProgramData\\Anaconda3\\envs\\venv\\lib\\site-packages\\fuzzywuzzy\\fuzz.py:11: UserWarning: Using slow pure-python SequenceMatcher. Install python-Levenshtein to remove this warning\n",
      "  warnings.warn('Using slow pure-python SequenceMatcher. Install python-Levenshtein to remove this warning')\n"
     ]
    }
   ],
   "source": [
    "import os\n",
    "import time\n",
    "\n",
    "import json\n",
    "\n",
    "from operator import itemgetter\n",
    "\n",
    "# data science imports\n",
    "import random\n",
    "import math\n",
    "import numpy as np\n",
    "import pandas as pd\n",
    "from scipy.sparse import csr_matrix\n",
    "from sklearn.neighbors import NearestNeighbors\n",
    "\n",
    "# utils import\n",
    "from fuzzywuzzy import fuzz\n",
    "\n",
    "# visualization imports\n",
    "import seaborn as sns\n",
    "import matplotlib.pyplot as plt"
   ]
  },
  {
   "cell_type": "markdown",
   "id": "nervous-token",
   "metadata": {},
   "source": [
    "## Load Json Data"
   ]
  },
  {
   "cell_type": "code",
   "execution_count": 2,
   "id": "shaped-peninsula",
   "metadata": {},
   "outputs": [],
   "source": [
    "def read_josn (path):\n",
    "    file = open(path, \"r\", encoding = 'utf-8')\n",
    "    df = []\n",
    "    for line in file.readlines():\n",
    "        dic = json.loads(line)\n",
    "        df.append(dic)\n",
    "    return df"
   ]
  },
  {
   "cell_type": "code",
   "execution_count": 3,
   "id": "chicken-sender",
   "metadata": {},
   "outputs": [],
   "source": [
    "# load business data\n",
    "path = \"data/Charlotte/Charlotte_business.json\"\n",
    "business_list = read_josn(path)\n",
    "# load reviews data\n",
    "path = \"data/Charlotte/Charlotte_Review.json\"\n",
    "review_list = read_josn(path)\n",
    "# load user data\n",
    "path = \"data/Charlotte/Charlotte_User.json\"\n",
    "user_list = read_josn(path)"
   ]
  },
  {
   "cell_type": "markdown",
   "id": "unable-federation",
   "metadata": {},
   "source": [
    "## Transform to dataframe"
   ]
  },
  {
   "cell_type": "code",
   "execution_count": 4,
   "id": "downtown-trust",
   "metadata": {},
   "outputs": [
    {
     "data": {
      "text/html": [
       "<div>\n",
       "<style scoped>\n",
       "    .dataframe tbody tr th:only-of-type {\n",
       "        vertical-align: middle;\n",
       "    }\n",
       "\n",
       "    .dataframe tbody tr th {\n",
       "        vertical-align: top;\n",
       "    }\n",
       "\n",
       "    .dataframe thead th {\n",
       "        text-align: right;\n",
       "    }\n",
       "</style>\n",
       "<table border=\"1\" class=\"dataframe\">\n",
       "  <thead>\n",
       "    <tr style=\"text-align: right;\">\n",
       "      <th></th>\n",
       "      <th>RawBusinessId</th>\n",
       "      <th>businessId</th>\n",
       "      <th>title</th>\n",
       "    </tr>\n",
       "  </thead>\n",
       "  <tbody>\n",
       "    <tr>\n",
       "      <th>0</th>\n",
       "      <td>gnKjwL_1w79qoiV3IC_xQQ</td>\n",
       "      <td>1</td>\n",
       "      <td>Musashi Japanese Restaurant</td>\n",
       "    </tr>\n",
       "    <tr>\n",
       "      <th>1</th>\n",
       "      <td>HhyxOkGAM07SRYtlQ4wMFQ</td>\n",
       "      <td>2</td>\n",
       "      <td>Queen City Plumbing</td>\n",
       "    </tr>\n",
       "    <tr>\n",
       "      <th>2</th>\n",
       "      <td>irft4YkdNsww4DNf_Aftew</td>\n",
       "      <td>3</td>\n",
       "      <td>So Cool Frozen Yogurt</td>\n",
       "    </tr>\n",
       "    <tr>\n",
       "      <th>3</th>\n",
       "      <td>BvYU3jvGd0TJ7IyZdfiN2Q</td>\n",
       "      <td>4</td>\n",
       "      <td>Manzetti's Tavern</td>\n",
       "    </tr>\n",
       "    <tr>\n",
       "      <th>4</th>\n",
       "      <td>Qnz3ywR7BosTr8qDk6G-Pw</td>\n",
       "      <td>5</td>\n",
       "      <td>Mattress Firm Final Markdown</td>\n",
       "    </tr>\n",
       "  </tbody>\n",
       "</table>\n",
       "</div>"
      ],
      "text/plain": [
       "            RawBusinessId  businessId                         title\n",
       "0  gnKjwL_1w79qoiV3IC_xQQ           1   Musashi Japanese Restaurant\n",
       "1  HhyxOkGAM07SRYtlQ4wMFQ           2           Queen City Plumbing\n",
       "2  irft4YkdNsww4DNf_Aftew           3         So Cool Frozen Yogurt\n",
       "3  BvYU3jvGd0TJ7IyZdfiN2Q           4             Manzetti's Tavern\n",
       "4  Qnz3ywR7BosTr8qDk6G-Pw           5  Mattress Firm Final Markdown"
      ]
     },
     "execution_count": 4,
     "metadata": {},
     "output_type": "execute_result"
    }
   ],
   "source": [
    "# business list into dataframe\n",
    "df_business = pd.DataFrame()\n",
    "business_id = []\n",
    "name = []\n",
    "for element in business_list:\n",
    "    business_id.append(element[\"business_id\"])\n",
    "    name.append(element[\"name\"])\n",
    "\n",
    "Business_Num_Id = {}\n",
    "U = 1\n",
    "B = 1\n",
    "Business_Id = []\n",
    "for index in range(len(business_id)):\n",
    "    if business_id[index] not in Business_Num_Id.keys():\n",
    "        Business_Num_Id[business_id[index]] = B\n",
    "        B = B + 1\n",
    "    Business_Id.append(Business_Num_Id[business_id[index]])\n",
    "    \n",
    "\n",
    "df_business[\"RawBusinessId\"] = business_id\n",
    "df_business[\"businessId\"] = Business_Id\n",
    "df_business[\"title\"] = name\n",
    "\n",
    "df_business.head()"
   ]
  },
  {
   "cell_type": "code",
   "execution_count": 5,
   "id": "average-spectrum",
   "metadata": {},
   "outputs": [
    {
     "data": {
      "text/html": [
       "<div>\n",
       "<style scoped>\n",
       "    .dataframe tbody tr th:only-of-type {\n",
       "        vertical-align: middle;\n",
       "    }\n",
       "\n",
       "    .dataframe tbody tr th {\n",
       "        vertical-align: top;\n",
       "    }\n",
       "\n",
       "    .dataframe thead th {\n",
       "        text-align: right;\n",
       "    }\n",
       "</style>\n",
       "<table border=\"1\" class=\"dataframe\">\n",
       "  <thead>\n",
       "    <tr style=\"text-align: right;\">\n",
       "      <th></th>\n",
       "      <th>RawUserId</th>\n",
       "      <th>UserId</th>\n",
       "      <th>name</th>\n",
       "    </tr>\n",
       "  </thead>\n",
       "  <tbody>\n",
       "    <tr>\n",
       "      <th>0</th>\n",
       "      <td>Ps_zkoSnuv2Gy-QIt0jEJg</td>\n",
       "      <td>1</td>\n",
       "      <td>Lea</td>\n",
       "    </tr>\n",
       "    <tr>\n",
       "      <th>1</th>\n",
       "      <td>djQLJTLA4Tx7TpzYCKIqJQ</td>\n",
       "      <td>2</td>\n",
       "      <td>Kris</td>\n",
       "    </tr>\n",
       "    <tr>\n",
       "      <th>2</th>\n",
       "      <td>eSlOI3GhroEtcbaD_nFXJQ</td>\n",
       "      <td>3</td>\n",
       "      <td>Jason</td>\n",
       "    </tr>\n",
       "    <tr>\n",
       "      <th>3</th>\n",
       "      <td>NmC_ZemjAQ6TvzgeaAuTmA</td>\n",
       "      <td>4</td>\n",
       "      <td>Lindsay</td>\n",
       "    </tr>\n",
       "    <tr>\n",
       "      <th>4</th>\n",
       "      <td>gTAMqkDSj8z84XN8YvsSJg</td>\n",
       "      <td>5</td>\n",
       "      <td>Morgan</td>\n",
       "    </tr>\n",
       "  </tbody>\n",
       "</table>\n",
       "</div>"
      ],
      "text/plain": [
       "                RawUserId  UserId     name\n",
       "0  Ps_zkoSnuv2Gy-QIt0jEJg       1      Lea\n",
       "1  djQLJTLA4Tx7TpzYCKIqJQ       2     Kris\n",
       "2  eSlOI3GhroEtcbaD_nFXJQ       3    Jason\n",
       "3  NmC_ZemjAQ6TvzgeaAuTmA       4  Lindsay\n",
       "4  gTAMqkDSj8z84XN8YvsSJg       5   Morgan"
      ]
     },
     "execution_count": 5,
     "metadata": {},
     "output_type": "execute_result"
    }
   ],
   "source": [
    "# User list into dataframe\n",
    "df_user = pd.DataFrame()\n",
    "user_id = []\n",
    "name = []\n",
    "for element in user_list:\n",
    "    user_id.append(element[\"user_id\"])\n",
    "    name.append(element[\"name\"])\n",
    "\n",
    "User_Num_Id = {}\n",
    "U = 1\n",
    "User_Id = []\n",
    "for index in range(len(user_id)):\n",
    "    if user_id[index] not in User_Num_Id.keys():\n",
    "        User_Num_Id[user_id[index]] = U\n",
    "        U = U + 1\n",
    "    User_Id.append(User_Num_Id[user_id[index]])\n",
    "    \n",
    "df_user[\"RawUserId\"] = user_id\n",
    "df_user[\"UserId\"] = User_Id\n",
    "df_user[\"name\"] = name\n",
    "\n",
    "df_user.head()"
   ]
  },
  {
   "cell_type": "code",
   "execution_count": 6,
   "id": "connected-diabetes",
   "metadata": {},
   "outputs": [
    {
     "data": {
      "text/html": [
       "<div>\n",
       "<style scoped>\n",
       "    .dataframe tbody tr th:only-of-type {\n",
       "        vertical-align: middle;\n",
       "    }\n",
       "\n",
       "    .dataframe tbody tr th {\n",
       "        vertical-align: top;\n",
       "    }\n",
       "\n",
       "    .dataframe thead th {\n",
       "        text-align: right;\n",
       "    }\n",
       "</style>\n",
       "<table border=\"1\" class=\"dataframe\">\n",
       "  <thead>\n",
       "    <tr style=\"text-align: right;\">\n",
       "      <th></th>\n",
       "      <th>userId</th>\n",
       "      <th>businessId</th>\n",
       "      <th>rating</th>\n",
       "    </tr>\n",
       "  </thead>\n",
       "  <tbody>\n",
       "    <tr>\n",
       "      <th>0</th>\n",
       "      <td>5282</td>\n",
       "      <td>166</td>\n",
       "      <td>5.0</td>\n",
       "    </tr>\n",
       "    <tr>\n",
       "      <th>1</th>\n",
       "      <td>9782</td>\n",
       "      <td>521</td>\n",
       "      <td>1.0</td>\n",
       "    </tr>\n",
       "    <tr>\n",
       "      <th>2</th>\n",
       "      <td>5280</td>\n",
       "      <td>166</td>\n",
       "      <td>5.0</td>\n",
       "    </tr>\n",
       "    <tr>\n",
       "      <th>3</th>\n",
       "      <td>1934</td>\n",
       "      <td>245</td>\n",
       "      <td>4.0</td>\n",
       "    </tr>\n",
       "    <tr>\n",
       "      <th>4</th>\n",
       "      <td>4678</td>\n",
       "      <td>36</td>\n",
       "      <td>5.0</td>\n",
       "    </tr>\n",
       "  </tbody>\n",
       "</table>\n",
       "</div>"
      ],
      "text/plain": [
       "   userId  businessId  rating\n",
       "0    5282         166     5.0\n",
       "1    9782         521     1.0\n",
       "2    5280         166     5.0\n",
       "3    1934         245     4.0\n",
       "4    4678          36     5.0"
      ]
     },
     "execution_count": 6,
     "metadata": {},
     "output_type": "execute_result"
    }
   ],
   "source": [
    "# review list into dataframe\n",
    "df_ratings = pd.DataFrame()\n",
    "#review_id = []\n",
    "user_id = []\n",
    "business_id = []\n",
    "ratings = []\n",
    "for element in review_list:\n",
    "    uid = User_Num_Id[element[\"user_id\"]]\n",
    "    bid = Business_Num_Id[element[\"business_id\"]]\n",
    "    \n",
    "    user_id.append(uid)\n",
    "    business_id.append(bid)\n",
    "    ratings.append(element[\"stars\"])\n",
    "\n",
    "#df_ratings[\"review_id\"] = review_id\n",
    "df_ratings[\"userId\"] = user_id\n",
    "df_ratings[\"businessId\"] = business_id\n",
    "df_ratings[\"rating\"] = ratings\n",
    "\n",
    "df_ratings.head()"
   ]
  },
  {
   "cell_type": "markdown",
   "id": "according-lobby",
   "metadata": {},
   "source": [
    "## Filter Data"
   ]
  },
  {
   "cell_type": "markdown",
   "id": "independent-producer",
   "metadata": {},
   "source": [
    "### For Business"
   ]
  },
  {
   "cell_type": "code",
   "execution_count": 7,
   "id": "voluntary-siemens",
   "metadata": {},
   "outputs": [
    {
     "data": {
      "text/html": [
       "<div>\n",
       "<style scoped>\n",
       "    .dataframe tbody tr th:only-of-type {\n",
       "        vertical-align: middle;\n",
       "    }\n",
       "\n",
       "    .dataframe tbody tr th {\n",
       "        vertical-align: top;\n",
       "    }\n",
       "\n",
       "    .dataframe thead th {\n",
       "        text-align: right;\n",
       "    }\n",
       "</style>\n",
       "<table border=\"1\" class=\"dataframe\">\n",
       "  <thead>\n",
       "    <tr style=\"text-align: right;\">\n",
       "      <th></th>\n",
       "      <th>count</th>\n",
       "    </tr>\n",
       "    <tr>\n",
       "      <th>businessId</th>\n",
       "      <th></th>\n",
       "    </tr>\n",
       "  </thead>\n",
       "  <tbody>\n",
       "    <tr>\n",
       "      <th>1</th>\n",
       "      <td>178</td>\n",
       "    </tr>\n",
       "    <tr>\n",
       "      <th>2</th>\n",
       "      <td>4</td>\n",
       "    </tr>\n",
       "    <tr>\n",
       "      <th>3</th>\n",
       "      <td>6</td>\n",
       "    </tr>\n",
       "    <tr>\n",
       "      <th>4</th>\n",
       "      <td>18</td>\n",
       "    </tr>\n",
       "    <tr>\n",
       "      <th>5</th>\n",
       "      <td>4</td>\n",
       "    </tr>\n",
       "  </tbody>\n",
       "</table>\n",
       "</div>"
      ],
      "text/plain": [
       "            count\n",
       "businessId       \n",
       "1             178\n",
       "2               4\n",
       "3               6\n",
       "4              18\n",
       "5               4"
      ]
     },
     "execution_count": 7,
     "metadata": {},
     "output_type": "execute_result"
    }
   ],
   "source": [
    "# get rating frequency\n",
    "df_business_cnt = pd.DataFrame(df_ratings.groupby('businessId').size(), columns=['count'])\n",
    "df_business_cnt.head()"
   ]
  },
  {
   "cell_type": "code",
   "execution_count": 8,
   "id": "surprised-logan",
   "metadata": {},
   "outputs": [
    {
     "data": {
      "text/plain": [
       "1.00    1895.0\n",
       "0.95     139.0\n",
       "0.90      77.0\n",
       "0.85      50.0\n",
       "0.80      36.0\n",
       "0.75      27.0\n",
       "0.70      21.0\n",
       "0.65      17.0\n",
       "Name: count, dtype: float64"
      ]
     },
     "execution_count": 8,
     "metadata": {},
     "output_type": "execute_result"
    }
   ],
   "source": [
    "# top quantiles of rating counts\n",
    "df_business_cnt['count'].quantile(np.arange(1, 0.6, -0.05))"
   ]
  },
  {
   "cell_type": "code",
   "execution_count": 9,
   "id": "baking-cedar",
   "metadata": {},
   "outputs": [
    {
     "name": "stdout",
     "output_type": "stream",
     "text": [
      "shape of original ratings data:  (309425, 3)\n",
      "shape of ratings data after dropping unpopular business:  (285809, 3)\n"
     ]
    }
   ],
   "source": [
    "# filter data - movies count less than 20\n",
    "popularity_thres = 10\n",
    "popular_business = list(set(df_business_cnt.query('count >= @popularity_thres').index))\n",
    "df_ratings_drop_business = df_ratings[df_ratings.businessId.isin(popular_business)]\n",
    "print('shape of original ratings data: ', df_ratings.shape)\n",
    "print('shape of ratings data after dropping unpopular business: ', df_ratings_drop_business.shape)"
   ]
  },
  {
   "cell_type": "markdown",
   "id": "structural-world",
   "metadata": {},
   "source": [
    "### For Users"
   ]
  },
  {
   "cell_type": "code",
   "execution_count": 10,
   "id": "mathematical-prison",
   "metadata": {},
   "outputs": [
    {
     "data": {
      "text/html": [
       "<div>\n",
       "<style scoped>\n",
       "    .dataframe tbody tr th:only-of-type {\n",
       "        vertical-align: middle;\n",
       "    }\n",
       "\n",
       "    .dataframe tbody tr th {\n",
       "        vertical-align: top;\n",
       "    }\n",
       "\n",
       "    .dataframe thead th {\n",
       "        text-align: right;\n",
       "    }\n",
       "</style>\n",
       "<table border=\"1\" class=\"dataframe\">\n",
       "  <thead>\n",
       "    <tr style=\"text-align: right;\">\n",
       "      <th></th>\n",
       "      <th>count</th>\n",
       "    </tr>\n",
       "    <tr>\n",
       "      <th>userId</th>\n",
       "      <th></th>\n",
       "    </tr>\n",
       "  </thead>\n",
       "  <tbody>\n",
       "    <tr>\n",
       "      <th>1</th>\n",
       "      <td>3</td>\n",
       "    </tr>\n",
       "    <tr>\n",
       "      <th>2</th>\n",
       "      <td>11</td>\n",
       "    </tr>\n",
       "    <tr>\n",
       "      <th>3</th>\n",
       "      <td>11</td>\n",
       "    </tr>\n",
       "    <tr>\n",
       "      <th>4</th>\n",
       "      <td>62</td>\n",
       "    </tr>\n",
       "    <tr>\n",
       "      <th>5</th>\n",
       "      <td>3</td>\n",
       "    </tr>\n",
       "  </tbody>\n",
       "</table>\n",
       "</div>"
      ],
      "text/plain": [
       "        count\n",
       "userId       \n",
       "1           3\n",
       "2          11\n",
       "3          11\n",
       "4          62\n",
       "5           3"
      ]
     },
     "execution_count": 10,
     "metadata": {},
     "output_type": "execute_result"
    }
   ],
   "source": [
    "# get number of ratings given by every user\n",
    "df_users_cnt = pd.DataFrame(df_ratings_drop_business.groupby('userId').size(), columns=['count'])\n",
    "df_users_cnt.head()"
   ]
  },
  {
   "cell_type": "code",
   "execution_count": 11,
   "id": "declared-hebrew",
   "metadata": {},
   "outputs": [
    {
     "data": {
      "text/plain": [
       "1.00    799.0\n",
       "0.95      9.0\n",
       "0.90      5.0\n",
       "0.85      4.0\n",
       "0.80      3.0\n",
       "0.75      2.0\n",
       "0.70      2.0\n",
       "0.65      2.0\n",
       "0.60      1.0\n",
       "0.55      1.0\n",
       "Name: count, dtype: float64"
      ]
     },
     "execution_count": 11,
     "metadata": {},
     "output_type": "execute_result"
    }
   ],
   "source": [
    "df_users_cnt['count'].quantile(np.arange(1, 0.5, -0.05))"
   ]
  },
  {
   "cell_type": "code",
   "execution_count": 12,
   "id": "continued-fifty",
   "metadata": {},
   "outputs": [
    {
     "name": "stdout",
     "output_type": "stream",
     "text": [
      "shape of original ratings data:  (309425, 3)\n",
      "shape of ratings data after dropping both unpopular business and inactive users:  (202926, 3)\n"
     ]
    }
   ],
   "source": [
    "# filter data\n",
    "ratings_thres = 3\n",
    "active_users = list(set(df_users_cnt.query('count >= @ratings_thres').index))\n",
    "df_ratings_drop_users = df_ratings_drop_business[df_ratings_drop_business.userId.isin(active_users)]\n",
    "print('shape of original ratings data: ', df_ratings.shape)\n",
    "print('shape of ratings data after dropping both unpopular business and inactive users: ', df_ratings_drop_users.shape)"
   ]
  },
  {
   "cell_type": "code",
   "execution_count": 13,
   "id": "productive-grammar",
   "metadata": {
    "tags": []
   },
   "outputs": [
    {
     "data": {
      "text/html": [
       "<div>\n",
       "<style scoped>\n",
       "    .dataframe tbody tr th:only-of-type {\n",
       "        vertical-align: middle;\n",
       "    }\n",
       "\n",
       "    .dataframe tbody tr th {\n",
       "        vertical-align: top;\n",
       "    }\n",
       "\n",
       "    .dataframe thead th {\n",
       "        text-align: right;\n",
       "    }\n",
       "</style>\n",
       "<table border=\"1\" class=\"dataframe\">\n",
       "  <thead>\n",
       "    <tr style=\"text-align: right;\">\n",
       "      <th></th>\n",
       "      <th>userId</th>\n",
       "      <th>businessId</th>\n",
       "      <th>rating</th>\n",
       "    </tr>\n",
       "  </thead>\n",
       "  <tbody>\n",
       "    <tr>\n",
       "      <th>0</th>\n",
       "      <td>5282</td>\n",
       "      <td>166</td>\n",
       "      <td>5.0</td>\n",
       "    </tr>\n",
       "    <tr>\n",
       "      <th>1</th>\n",
       "      <td>9782</td>\n",
       "      <td>521</td>\n",
       "      <td>1.0</td>\n",
       "    </tr>\n",
       "    <tr>\n",
       "      <th>2</th>\n",
       "      <td>5280</td>\n",
       "      <td>166</td>\n",
       "      <td>5.0</td>\n",
       "    </tr>\n",
       "    <tr>\n",
       "      <th>3</th>\n",
       "      <td>1934</td>\n",
       "      <td>245</td>\n",
       "      <td>4.0</td>\n",
       "    </tr>\n",
       "    <tr>\n",
       "      <th>4</th>\n",
       "      <td>5385</td>\n",
       "      <td>23</td>\n",
       "      <td>3.0</td>\n",
       "    </tr>\n",
       "    <tr>\n",
       "      <th>...</th>\n",
       "      <td>...</td>\n",
       "      <td>...</td>\n",
       "      <td>...</td>\n",
       "    </tr>\n",
       "    <tr>\n",
       "      <th>202921</th>\n",
       "      <td>46041</td>\n",
       "      <td>8884</td>\n",
       "      <td>5.0</td>\n",
       "    </tr>\n",
       "    <tr>\n",
       "      <th>202922</th>\n",
       "      <td>30031</td>\n",
       "      <td>9133</td>\n",
       "      <td>5.0</td>\n",
       "    </tr>\n",
       "    <tr>\n",
       "      <th>202923</th>\n",
       "      <td>8822</td>\n",
       "      <td>9371</td>\n",
       "      <td>5.0</td>\n",
       "    </tr>\n",
       "    <tr>\n",
       "      <th>202924</th>\n",
       "      <td>14522</td>\n",
       "      <td>9280</td>\n",
       "      <td>5.0</td>\n",
       "    </tr>\n",
       "    <tr>\n",
       "      <th>202925</th>\n",
       "      <td>489</td>\n",
       "      <td>9308</td>\n",
       "      <td>5.0</td>\n",
       "    </tr>\n",
       "  </tbody>\n",
       "</table>\n",
       "<p>202926 rows × 3 columns</p>\n",
       "</div>"
      ],
      "text/plain": [
       "        userId  businessId  rating\n",
       "0         5282         166     5.0\n",
       "1         9782         521     1.0\n",
       "2         5280         166     5.0\n",
       "3         1934         245     4.0\n",
       "4         5385          23     3.0\n",
       "...        ...         ...     ...\n",
       "202921   46041        8884     5.0\n",
       "202922   30031        9133     5.0\n",
       "202923    8822        9371     5.0\n",
       "202924   14522        9280     5.0\n",
       "202925     489        9308     5.0\n",
       "\n",
       "[202926 rows x 3 columns]"
      ]
     },
     "execution_count": 13,
     "metadata": {},
     "output_type": "execute_result"
    }
   ],
   "source": [
    "df_ratings_drop_users.index = list(range(0, df_ratings_drop_users.shape[0]))\n",
    "df_ratings_drop_users"
   ]
  },
  {
   "cell_type": "code",
   "execution_count": 14,
   "id": "qualified-commitment",
   "metadata": {},
   "outputs": [
    {
     "name": "stdout",
     "output_type": "stream",
     "text": [
      "There are 20697 unique users and 4688 unique movies in this data set\n"
     ]
    }
   ],
   "source": [
    "# the number of users and movies\n",
    "num_users = len(df_ratings_drop_users.userId.unique())\n",
    "num_items = len(df_ratings_drop_users.businessId.unique())\n",
    "print('There are {} unique users and {} unique movies in this data set'.format(num_users, num_items))"
   ]
  },
  {
   "cell_type": "markdown",
   "id": "characteristic-wells",
   "metadata": {},
   "source": [
    "## Split Data"
   ]
  },
  {
   "cell_type": "code",
   "execution_count": 15,
   "id": "handy-charles",
   "metadata": {},
   "outputs": [
    {
     "name": "stdout",
     "output_type": "stream",
     "text": [
      "        userId  businessId  rating\n",
      "0         2356         680     4.0\n",
      "1           95        1746     5.0\n",
      "2         1142        6487     3.0\n",
      "3        12222        3030     5.0\n",
      "4        49704        8869     2.0\n",
      "...        ...         ...     ...\n",
      "162335    6110        3994     5.0\n",
      "162336    1880        2093     4.0\n",
      "162337   34959        7042     1.0\n",
      "162338    4692         680     5.0\n",
      "162339    1956        6261     3.0\n",
      "\n",
      "[162340 rows x 3 columns]\n"
     ]
    }
   ],
   "source": [
    "# split the data - 80% training and 20% test\n",
    "from sklearn.model_selection import train_test_split\n",
    "training,test = train_test_split(df_ratings_drop_users, test_size=0.2, stratify=df_ratings_drop_users['userId'],random_state=0)\n",
    "training.index = list(range(0, training.shape[0]))\n",
    "print (training)"
   ]
  },
  {
   "cell_type": "code",
   "execution_count": 16,
   "id": "controversial-pickup",
   "metadata": {},
   "outputs": [
    {
     "name": "stdout",
     "output_type": "stream",
     "text": [
      "       userId  businessId  rating\n",
      "0        6063        1746     4.0\n",
      "1          36         245     4.0\n",
      "2       38376        7891     5.0\n",
      "3        3068        3704     5.0\n",
      "4        5815        4451     4.0\n",
      "...       ...         ...     ...\n",
      "40581   14868        5437     5.0\n",
      "40582   21507        8376     5.0\n",
      "40583   45837        2282     2.0\n",
      "40584    7200        1171     3.0\n",
      "40585      69        2514     3.0\n",
      "\n",
      "[40586 rows x 3 columns]\n"
     ]
    }
   ],
   "source": [
    "test.index = list(range(0, test.shape[0]))\n",
    "print(test)"
   ]
  },
  {
   "cell_type": "markdown",
   "id": "mexican-dietary",
   "metadata": {},
   "source": [
    "## Transform dataframe to dictionary"
   ]
  },
  {
   "cell_type": "code",
   "execution_count": 17,
   "id": "copyrighted-roman",
   "metadata": {},
   "outputs": [
    {
     "name": "stdout",
     "output_type": "stream",
     "text": [
      "dataDic = 202926\n",
      "dataDic = 162340\n",
      "dataDic = 40586\n"
     ]
    }
   ],
   "source": [
    "def get_dic(data):    \n",
    "    dataDic = {}\n",
    "    dataDic_len = 0\n",
    "    # 遍历data的每一行， 把userId, movidId, rating按照{user: {movidId: rating}}的方式存储， 当然定义一个随机种子进行数据集划分\n",
    "    for ele in data.itertuples():   # 遍历行这里推荐用itertuples， 比iterrows会高效很多\n",
    "        user, business, rating = getattr(ele, 'userId'), getattr(ele, 'businessId'), getattr(ele, 'rating')\n",
    "\n",
    "        dataDic.setdefault(user, {})\n",
    "        dataDic[user][business] = rating\n",
    "        dataDic_len += 1\n",
    "\n",
    "    print('dataDic = %s' % dataDic_len)\n",
    "    return (dataDic, dataDic_len)\n",
    "\n",
    "dataDic, dataDic_len = get_dic(df_ratings_drop_users)\n",
    "trainSet, trainSet_len = get_dic(training)\n",
    "testSet, testSet_len = get_dic(test)"
   ]
  },
  {
   "cell_type": "markdown",
   "id": "alpha-bikini",
   "metadata": {},
   "source": [
    "## Get Similarity"
   ]
  },
  {
   "cell_type": "code",
   "execution_count": 18,
   "id": "serious-andorra",
   "metadata": {},
   "outputs": [],
   "source": [
    "def get_sim (dataDic):\n",
    "    # Calculate the popularity of each business, that is, the total number of times each movie is watched by users.\n",
    "    business_popular = {}\n",
    "    for user, businesses in dataDic.items(): \n",
    "        for business in businesses:  \n",
    "            if business not in business_popular:     \n",
    "                business_popular[business] = 0  \n",
    "            business_popular[business] += 1\n",
    "\n",
    "    business_count = len(business_popular)\n",
    "    print('Total business number = %d' % business_count)\n",
    "\n",
    "\n",
    "    # business similarity matrix\n",
    "    print('Build user co-rated business matrix ...')\n",
    "    business_sim_matrix = {}\n",
    "    for user, businesses in dataDic.items():\n",
    "        # one business b1\n",
    "        for b1 in businesses:           \n",
    "            # another business b2\n",
    "            for b2 in businesses:\n",
    "                if b1 == b2:\n",
    "                    continue\n",
    "                business_sim_matrix.setdefault(b1, {})      \n",
    "                # Set the value of the dictionary to the form of a dictionary\n",
    "                business_sim_matrix[b1].setdefault(b2, 0)\n",
    "\n",
    "                # cos-sim molecular\n",
    "                business_sim_matrix[b1][b2] += businesses[b1]*businesses[b2]\n",
    "\n",
    "    print('Build user co-rated businesses matrix success!')\n",
    "\n",
    "    # cos-sim Denominator\n",
    "    temp_sim = {}\n",
    "    for user, businesses in dataDic.items():\n",
    "        for b in businesses:\n",
    "            if b not in temp_sim:     \n",
    "                temp_sim[b] = 0  \n",
    "            temp_sim[b] += math.pow(businesses[b],2)\n",
    "\n",
    "    # Calculate similarity between businesses\n",
    "    print('Calculating businesses similarity matrix ...')\n",
    "    for b1, related_businesses in business_sim_matrix.items():\n",
    "        for b2, count in related_businesses.items():    \n",
    "            if temp_sim[b1] == 0 or temp_sim[b2] == 0:\n",
    "                # the business that no user rated it\n",
    "                business_sim_matrix[b1][b2] = 0\n",
    "            else:\n",
    "                # cos-sim\n",
    "                business_sim_matrix[b1][b2] = count / math.sqrt(temp_sim[b1] * temp_sim[b2]) \n",
    "    print('Calculate businesses similarity matrix success!')\n",
    "    \n",
    "    return business_sim_matrix, business_popular"
   ]
  },
  {
   "cell_type": "code",
   "execution_count": 19,
   "id": "excellent-voluntary",
   "metadata": {},
   "outputs": [
    {
     "name": "stdout",
     "output_type": "stream",
     "text": [
      "Total business number = 4688\n",
      "Build user co-rated business matrix ...\n",
      "Build user co-rated businesses matrix success!\n",
      "Calculating businesses similarity matrix ...\n",
      "Calculate businesses similarity matrix success!\n"
     ]
    }
   ],
   "source": [
    "business_sim_matrix, business_popular = get_sim(dataDic)\n",
    "#business_sim_matrix, business_popular = get_sim(trainSet)"
   ]
  },
  {
   "cell_type": "code",
   "execution_count": 20,
   "id": "former-theta",
   "metadata": {
    "tags": []
   },
   "outputs": [],
   "source": [
    "# recomend top-N list to users\n",
    "def recommend(aim_user, data, sim_matrix, k=20, n=20):\n",
    "    rank ={}\n",
    "    # find the rated business that traget user rated before\n",
    "    rated_businesses = data[aim_user]      \n",
    "    \n",
    "    # simiarity sum\n",
    "    w_sum = {}\n",
    "    \n",
    "    for business, rating in rated_businesses.items():\n",
    "        # from rated businessses\n",
    "        if business not in sim_matrix.keys():\n",
    "            continue\n",
    "        for related_business, w in sorted(sim_matrix[business].items(), key=itemgetter(1), reverse=True)[:k]:\n",
    "            # If the user interacts with this item, skip\n",
    "            if related_business in rated_businesses:\n",
    "                continue\n",
    "            # Calculate the user's preference value for related_business, \n",
    "            # and initialize the value to 0\n",
    "            rank.setdefault(related_business, 0)\n",
    "            w_sum.setdefault(related_business, 0)\n",
    "            # weighted the rating and simialrity and record the similarity\n",
    "            rank[related_business] += w * (rating)\n",
    "            w_sum[related_business] += w\n",
    "    \n",
    "    # predict\n",
    "    for bid in rank.keys():\n",
    "        rank[bid] = (rank[bid] / w_sum[bid])\n",
    "    \n",
    "    # final list \n",
    "    result =  sorted(rank.items(), key=itemgetter(1), reverse=True)[:n]\n",
    "    # rank position\n",
    "    rank_position = list(range(1,len(result)+1))\n",
    "    \n",
    "    return result, rank_position"
   ]
  },
  {
   "cell_type": "markdown",
   "id": "faced-affect",
   "metadata": {},
   "source": [
    "#### 一个例子"
   ]
  },
  {
   "cell_type": "code",
   "execution_count": 21,
   "id": "informed-reminder",
   "metadata": {
    "tags": []
   },
   "outputs": [],
   "source": [
    "aim_user = 1202\n",
    "recom_list, rank_posi = recommend(aim_user, dataDic, business_sim_matrix,k=20,n=20)\n",
    "#recom_list, rank_posi = recommend(aim_user, trainSet, business_sim_matrix,k=20,n=20)"
   ]
  },
  {
   "cell_type": "code",
   "execution_count": 22,
   "id": "textile-agreement",
   "metadata": {
    "tags": []
   },
   "outputs": [
    {
     "data": {
      "text/plain": [
       "[(2275, 4.0),\n",
       " (2842, 4.0),\n",
       " (414, 4.0),\n",
       " (3512, 4.0),\n",
       " (5985, 4.0),\n",
       " (5754, 4.0),\n",
       " (1977, 4.0),\n",
       " (9104, 4.0),\n",
       " (1190, 4.0),\n",
       " (2933, 4.0),\n",
       " (6936, 4.0),\n",
       " (1990, 4.0),\n",
       " (5185, 4.0),\n",
       " (7500, 4.0),\n",
       " (3138, 4.0),\n",
       " (3458, 4.0),\n",
       " (2240, 4.0),\n",
       " (2555, 4.0),\n",
       " (8242, 4.0),\n",
       " (321, 4.0)]"
      ]
     },
     "execution_count": 22,
     "metadata": {},
     "output_type": "execute_result"
    }
   ],
   "source": [
    "recom_list"
   ]
  },
  {
   "cell_type": "code",
   "execution_count": 23,
   "id": "identical-leather",
   "metadata": {
    "tags": []
   },
   "outputs": [
    {
     "data": {
      "text/plain": [
       "[1, 2, 3, 4, 5, 6, 7, 8, 9, 10, 11, 12, 13, 14, 15, 16, 17, 18, 19, 20]"
      ]
     },
     "execution_count": 23,
     "metadata": {},
     "output_type": "execute_result"
    }
   ],
   "source": [
    "rank_posi"
   ]
  },
  {
   "cell_type": "markdown",
   "id": "greater-german",
   "metadata": {},
   "source": [
    "## PRU"
   ]
  },
  {
   "cell_type": "code",
   "execution_count": 24,
   "id": "moderate-guess",
   "metadata": {},
   "outputs": [],
   "source": [
    "from scipy import stats\n",
    "\n",
    "def get_SRC(recom_list, rank_posi, business_popular):\n",
    "    # popularity list\n",
    "    popularity = []\n",
    "    for bid, rating in recom_list:\n",
    "        popularity.append(business_popular[bid])\n",
    "    \n",
    "    SRC,_ = stats.spearmanr(rank_posi, popularity)\n",
    "    \n",
    "    return SRC    "
   ]
  },
  {
   "cell_type": "code",
   "execution_count": 25,
   "id": "expired-opera",
   "metadata": {},
   "outputs": [
    {
     "data": {
      "text/plain": [
       "0.7461452201224567"
      ]
     },
     "execution_count": 25,
     "metadata": {},
     "output_type": "execute_result"
    }
   ],
   "source": [
    "-get_SRC(recom_list, rank_posi, business_popular)"
   ]
  },
  {
   "cell_type": "code",
   "execution_count": 26,
   "id": "dress-adventure",
   "metadata": {
    "tags": []
   },
   "outputs": [],
   "source": [
    "SRC_list = []\n",
    "SRC = 0\n",
    "pop_list = []\n",
    "for uid in list(dataDic.keys()):\n",
    "    #print(uid)\n",
    "    recom_list, rank_posi = recommend(uid, dataDic, business_sim_matrix, k = 20, n = 20)\n",
    "    SRC = get_SRC(recom_list, rank_posi, business_popular)\n",
    "    SRC_list.append(SRC)\n",
    "    \n",
    "PRU = -np.mean(SRC_list)"
   ]
  },
  {
   "cell_type": "code",
   "execution_count": 27,
   "id": "nuclear-buffer",
   "metadata": {
    "tags": []
   },
   "outputs": [
    {
     "data": {
      "text/plain": [
       "-0.028142706303575456"
      ]
     },
     "execution_count": 27,
     "metadata": {},
     "output_type": "execute_result"
    }
   ],
   "source": [
    "PRU"
   ]
  },
  {
   "cell_type": "markdown",
   "id": "knowing-charles",
   "metadata": {},
   "source": [
    "## PRI"
   ]
  },
  {
   "cell_type": "code",
   "execution_count": 28,
   "id": "horizontal-ranking",
   "metadata": {},
   "outputs": [
    {
     "data": {
      "text/plain": [
       "-0.17609718243084477"
      ]
     },
     "execution_count": 28,
     "metadata": {},
     "output_type": "execute_result"
    }
   ],
   "source": [
    "ave_rank = {}\n",
    "rank_count = {}\n",
    "pop = {}\n",
    "for uid in list(dataDic.keys()):\n",
    "    recom_list, rank_posi = recommend(uid, dataDic, business_sim_matrix,k = 20, n = 20)\n",
    "    for index in range(len(recom_list)):\n",
    "        bid = recom_list[index][0]\n",
    "        ave_rank.setdefault(bid,0)\n",
    "        rank_count.setdefault(bid,0)\n",
    "        ave_rank[bid] += rank_posi[index]\n",
    "        rank_count[bid] += 1\n",
    "\n",
    "for business in ave_rank:\n",
    "    ave_rank[business] = ave_rank[business]/rank_count[business]\n",
    "    pop.setdefault(business,0)\n",
    "    pop[business] = business_popular[business]\n",
    "\n",
    "\n",
    "SRC,_ = stats.spearmanr(list(ave_rank.values()), list(pop.values()))\n",
    "PRI = -SRC\n",
    "PRI"
   ]
  },
  {
   "cell_type": "markdown",
   "id": "sharp-register",
   "metadata": {},
   "source": [
    "## Plot Frequency"
   ]
  },
  {
   "cell_type": "code",
   "execution_count": 27,
   "id": "fallen-intervention",
   "metadata": {},
   "outputs": [],
   "source": [
    "rec_business_popular = business_popular\n",
    "rec_freq = {}\n",
    "for b in rec_business_popular:\n",
    "    rec_freq.setdefault(b, 0)\n",
    "    \n",
    "for uid in list(dataDic.keys()):\n",
    "    #print(uid)\n",
    "    recom_list, _ = recommend(uid, dataDic, business_sim_matrix,k = 20, n = 20)\n",
    "    for rec in recom_list:\n",
    "        rec_freq[rec[0]] += 1"
   ]
  },
  {
   "cell_type": "code",
   "execution_count": 28,
   "id": "optical-refrigerator",
   "metadata": {},
   "outputs": [
    {
     "data": {
      "image/png": "[encoded data removed]",
      "text/plain": [
       "<Figure size 432x288 with 1 Axes>"
      ]
     },
     "metadata": {
      "needs_background": "light"
     },
     "output_type": "display_data"
    }
   ],
   "source": [
    "import matplotlib.pyplot as plt\n",
    "\n",
    "x_popularity = list(rec_business_popular.values())\n",
    "y_recommendation_frequency = list(rec_freq.values())\n",
    "pop_mean = np.mean(x_popularity)\n",
    "rec_mean = np.mean(y_recommendation_frequency)\n",
    "plt.scatter(x_popularity, y_recommendation_frequency,s=5,marker='o')\n",
    "plt.axhline(y = rec_mean, color = \"r\", linestyle = \"-\")\n",
    "plt.axvline(x = pop_mean, color = \"r\", linestyle = \"-\")\n",
    "\n",
    "plt.xlabel('Business Popularity',fontsize=12)  \n",
    "plt.ylabel('Recommendation frequency',fontsize=12)\n",
    "plt.title('Standard CF', fontsize=13)\n",
    "\n",
    "plt.savefig('Standard CF in Cha.png')\n",
    "plt.show()"
   ]
  },
  {
   "cell_type": "markdown",
   "id": "universal-navigator",
   "metadata": {},
   "source": [
    "## Evaluation"
   ]
  },
  {
   "cell_type": "code",
   "execution_count": 31,
   "id": "obvious-current",
   "metadata": {},
   "outputs": [
    {
     "name": "stdout",
     "output_type": "stream",
     "text": [
      "Total business number = 4686\n",
      "Build user co-rated business matrix ...\n",
      "Build user co-rated businesses matrix success!\n",
      "Calculating businesses similarity matrix ...\n",
      "Calculate businesses similarity matrix success!\n"
     ]
    }
   ],
   "source": [
    "# for training set\n",
    "business_sim_matrix,_ = get_sim(trainSet)"
   ]
  },
  {
   "cell_type": "code",
   "execution_count": 32,
   "id": "ignored-boulder",
   "metadata": {},
   "outputs": [],
   "source": [
    "def predict (aim_user, aim_bid, business_sim_matrix,data, N):\n",
    "    pred = 0\n",
    "    w_sum = 0\n",
    "    count = 0\n",
    "    N = 20\n",
    "\n",
    "    rated_businesses = data[aim_user]\n",
    "    if aim_bid not in business_sim_matrix.keys():\n",
    "        return 0\n",
    "    else:\n",
    "        cand_list = sorted(business_sim_matrix[aim_bid].items(), key=itemgetter(1), reverse=True)\n",
    "\n",
    "    for bid, w in cand_list:\n",
    "        if bid != aim_bid and bid in rated_businesses:\n",
    "            rating = trainSet[aim_user][bid]\n",
    "            pred += w * (rating)\n",
    "            w_sum += w\n",
    "            count += 1\n",
    "            if count == N:\n",
    "                break\n",
    "\n",
    "    # predict\n",
    "    if w_sum == 0:\n",
    "        result = 0\n",
    "    else:\n",
    "        result =  (pred / w_sum)\n",
    "        \n",
    "    return result"
   ]
  },
  {
   "cell_type": "code",
   "execution_count": 33,
   "id": "innocent-folks",
   "metadata": {},
   "outputs": [
    {
     "name": "stdout",
     "output_type": "stream",
     "text": [
      "The overall RMSE of the test set is  1.5484249504193337\n"
     ]
    }
   ],
   "source": [
    "# predicted ratings\n",
    "pred_ratings = []\n",
    "N = 20\n",
    "\n",
    "for index in range(len(test)):\n",
    "    #print(index)\n",
    "    uid = test['userId'][index]\n",
    "    bid = test['businessId'][index]\n",
    "    pred_ratings.append(predict(uid, bid, business_sim_matrix, trainSet, N))\n",
    "\n",
    "MSE = np.mean(pow(test[\"rating\"] - pred_ratings, 2))\n",
    "RMSE = np.sqrt(MSE)\n",
    "print(\"The overall RMSE of the test set is \",RMSE)"
   ]
  },
  {
   "cell_type": "markdown",
   "id": "streaming-mouth",
   "metadata": {},
   "source": [
    "# Bias-CF"
   ]
  },
  {
   "cell_type": "code",
   "execution_count": 29,
   "id": "dental-franchise",
   "metadata": {},
   "outputs": [
    {
     "name": "stdout",
     "output_type": "stream",
     "text": [
      "Total business number = 4688\n",
      "Build user co-rated business matrix ...\n",
      "Build user co-rated businesses matrix success!\n",
      "Calculating businesses similarity matrix ...\n",
      "Calculate businesses similarity matrix success!\n"
     ]
    }
   ],
   "source": [
    "business_sim_matrix, business_popular = get_sim(dataDic)"
   ]
  },
  {
   "cell_type": "code",
   "execution_count": 30,
   "id": "fundamental-information",
   "metadata": {
    "tags": []
   },
   "outputs": [],
   "source": [
    "# get average\n",
    "avg_rating_overall = 0\n",
    "avg_rating_users = {}\n",
    "avg_rating_items = {}\n",
    "for b in business_popular:\n",
    "    avg_rating_items.setdefault(b, 0)\n",
    "\n",
    "for user, businesses in dataDic.items():\n",
    "    avg_rating_users.setdefault(user, 0)\n",
    "    avg_rating_users[user] = np.mean(list(businesses.values()))\n",
    "    avg_rating_overall += sum(businesses.values())\n",
    "    \n",
    "    for business in businesses:\n",
    "        avg_rating_items[business] += businesses[business]\n",
    "\n",
    "avg_rating_overall = avg_rating_overall/dataDic_len\n",
    "\n",
    "\n",
    "for user in avg_rating_users:\n",
    "    avg_rating_users[user] = avg_rating_overall-avg_rating_users[user]\n",
    "\n",
    "for business in avg_rating_items:\n",
    "    Mean = avg_rating_items[business]/business_popular[business]\n",
    "    avg_rating_items[business] = avg_rating_overall - Mean"
   ]
  },
  {
   "cell_type": "code",
   "execution_count": 31,
   "id": "possible-generic",
   "metadata": {},
   "outputs": [],
   "source": [
    "def recommend_rerank(aim_user, data, sim_matrix, bg, bu, bi, k=20, n=20):\n",
    "    rank ={}\n",
    "    rated_businesses = data[aim_user]      # 找出目标用户看到电影\n",
    "\n",
    "    w_sum = {}\n",
    "    R = {}\n",
    "    \n",
    "    for business, rating in rated_businesses.items():\n",
    "        #遍历与物品item最相似的前k个产品，获得这些物品及相似分数\n",
    "        for related_business, w in sorted(sim_matrix[business].items(), key=itemgetter(1), reverse=True)[:k]:\n",
    "            # 若该物品用户看过， 跳过\n",
    "            if related_business in rated_businesses:\n",
    "                continue\n",
    "            # 计算用户user对related_business的偏好值， 初始化该值为0\n",
    "            rank.setdefault(related_business, 0)\n",
    "            w_sum.setdefault(related_business, 0)\n",
    "            #通过与其相似物品对物品related_business的偏好值相乘并相加。\n",
    "            #排名的依据—— > 推荐电影与该已看电影的相似度(累计) * 用户对已看电影的评分\n",
    "            rank[related_business] += w * (rating - (bu[aim_user]+bi[business]+bg))\n",
    "            w_sum[related_business] += w\n",
    "    \n",
    "    # 753\n",
    "    for bid in rank.keys():\n",
    "        rank[bid] = (rank[bid] / w_sum[bid]) + (bu[aim_user]+bi[bid]+bg)\n",
    "\n",
    "    # 产生最后的推荐列表\n",
    "    result =  sorted(rank.items(), key=itemgetter(1), reverse=True)[:n]  # itemgetter(1) 是简洁写法\n",
    "    \n",
    "    rank_position = list(range(1,len(result)+1))\n",
    "    \n",
    "    return result, rank_position"
   ]
  },
  {
   "cell_type": "code",
   "execution_count": 32,
   "id": "verified-immunology",
   "metadata": {},
   "outputs": [],
   "source": [
    "aim_user = 1202\n",
    "recom_list, rank_posi = recommend_rerank(aim_user, dataDic, business_sim_matrix, avg_rating_overall, avg_rating_users, avg_rating_items,k=20,n=20)"
   ]
  },
  {
   "cell_type": "code",
   "execution_count": 33,
   "id": "sharp-failure",
   "metadata": {
    "tags": []
   },
   "outputs": [
    {
     "data": {
      "text/plain": [
       "[(9104, 5.450294117647059),\n",
       " (3407, 5.3580735953299286),\n",
       " (7950, 5.1215753424657535),\n",
       " (6767, 4.998684556695606),\n",
       " (5249, 4.995883436247427),\n",
       " (412, 4.950590251332826),\n",
       " (2842, 4.896099656357388),\n",
       " (8570, 4.802941176470588),\n",
       " (1235, 4.782811540822591),\n",
       " (5754, 4.711774193548387),\n",
       " (7412, 4.649478207489257),\n",
       " (3247, 4.60230570040823),\n",
       " (1145, 4.58952140476543),\n",
       " (1695, 4.558988288410071),\n",
       " (1263, 4.531422651933702),\n",
       " (6174, 4.520384866275277),\n",
       " (6396, 4.503505341269095),\n",
       " (3138, 4.492592592592592),\n",
       " (1977, 4.47543956043956),\n",
       " (5892, 4.475343739649031)]"
      ]
     },
     "execution_count": 33,
     "metadata": {},
     "output_type": "execute_result"
    }
   ],
   "source": [
    "recom_list"
   ]
  },
  {
   "cell_type": "markdown",
   "id": "binary-trailer",
   "metadata": {},
   "source": [
    "## PRU"
   ]
  },
  {
   "cell_type": "code",
   "execution_count": 43,
   "id": "impossible-artist",
   "metadata": {},
   "outputs": [
    {
     "data": {
      "text/plain": [
       "-0.013538925365125222"
      ]
     },
     "execution_count": 43,
     "metadata": {},
     "output_type": "execute_result"
    }
   ],
   "source": [
    "-get_SRC(recom_list, rank_posi, business_popular)"
   ]
  },
  {
   "cell_type": "code",
   "execution_count": 44,
   "id": "filled-raise",
   "metadata": {},
   "outputs": [
    {
     "data": {
      "text/plain": [
       "-0.23396464965638097"
      ]
     },
     "execution_count": 44,
     "metadata": {},
     "output_type": "execute_result"
    }
   ],
   "source": [
    "SRC_list = []\n",
    "SRC = 0\n",
    "pop_list = []\n",
    "for uid in list(dataDic.keys()):\n",
    "    #print(uid)\n",
    "    recom_list, rank_posi = recommend_rerank(uid, dataDic, business_sim_matrix, avg_rating_overall, avg_rating_users, avg_rating_items, k = 20, n = 20)\n",
    "    SRC = get_SRC(recom_list, rank_posi, business_popular)\n",
    "\n",
    "    SRC_list.append(SRC)\n",
    "    \n",
    "PRU = -np.mean(SRC_list)\n",
    "PRU"
   ]
  },
  {
   "cell_type": "markdown",
   "id": "nonprofit-replication",
   "metadata": {},
   "source": [
    "## PRI"
   ]
  },
  {
   "cell_type": "code",
   "execution_count": 45,
   "id": "nasty-stock",
   "metadata": {},
   "outputs": [
    {
     "data": {
      "text/plain": [
       "0.004804753502032158"
      ]
     },
     "execution_count": 45,
     "metadata": {},
     "output_type": "execute_result"
    }
   ],
   "source": [
    "ave_rank = {}\n",
    "rank_count = {}\n",
    "pop = {}\n",
    "for uid in list(dataDic.keys()):\n",
    "    recom_list, rank_posi = recommend_rerank(uid, dataDic, business_sim_matrix, avg_rating_overall, avg_rating_users, avg_rating_items, k = 20, n = 20)\n",
    "    for index in range(len(recom_list)):\n",
    "        bid = recom_list[index][0]\n",
    "        ave_rank.setdefault(bid,0)\n",
    "        rank_count.setdefault(bid,0)\n",
    "        ave_rank[bid] += rank_posi[index]\n",
    "        rank_count[bid] += 1\n",
    "\n",
    "for business in ave_rank:\n",
    "    ave_rank[business] = ave_rank[business]/rank_count[business]\n",
    "    pop.setdefault(business,0)\n",
    "    pop[business] = business_popular[business]\n",
    "\n",
    "\n",
    "SRC,_ = stats.spearmanr(list(ave_rank.values()), list(pop.values()))\n",
    "PRI = -SRC\n",
    "PRI"
   ]
  },
  {
   "cell_type": "markdown",
   "id": "legendary-blake",
   "metadata": {},
   "source": [
    "## Plot frequency"
   ]
  },
  {
   "cell_type": "code",
   "execution_count": 34,
   "id": "written-source",
   "metadata": {},
   "outputs": [],
   "source": [
    "rec_business_popular1 = business_popular\n",
    "rec_freq1 = {}\n",
    "for b in rec_business_popular1:\n",
    "    rec_freq1.setdefault(b, 0)\n",
    "    \n",
    "for uid in list(dataDic.keys()):\n",
    "    #print(uid)\n",
    "    recom_list, _ = recommend_rerank(uid, dataDic, business_sim_matrix, avg_rating_overall, avg_rating_users, avg_rating_items,k=20,n=20)\n",
    "    for rec in recom_list:\n",
    "        rec_freq1[rec[0]] += 1"
   ]
  },
  {
   "cell_type": "code",
   "execution_count": 38,
   "id": "mineral-butler",
   "metadata": {},
   "outputs": [
    {
     "data": {
      "image/png": "[encoded data removed]",
      "text/plain": [
       "<Figure size 432x288 with 1 Axes>"
      ]
     },
     "metadata": {
      "needs_background": "light"
     },
     "output_type": "display_data"
    }
   ],
   "source": [
    "import matplotlib.pyplot as plt\n",
    "\n",
    "# after\n",
    "x_popularity = list(rec_business_popular1.values())\n",
    "y_recommendation_frequency = list(rec_freq1.values())\n",
    "pop_mean = np.mean(x_popularity)\n",
    "rec_mean = np.mean(y_recommendation_frequency)\n",
    "plt.scatter(x_popularity, y_recommendation_frequency,s=3,marker='o', color = 'red', label = \"Biased\")\n",
    "plt.axhline(y = rec_mean, color = \"r\", linestyle = \"-\",linewidth=0.5)\n",
    "plt.axvline(x = pop_mean, color = \"r\", linestyle = \"-\", linewidth=0.5)\n",
    "\n",
    "# before\n",
    "x_popularity = list(rec_business_popular.values())\n",
    "y_recommendation_frequency = list(rec_freq.values())\n",
    "pop_mean = np.mean(x_popularity)\n",
    "rec_mean = np.mean(y_recommendation_frequency)\n",
    "plt.scatter(x_popularity, y_recommendation_frequency,s=3,marker='o', color = 'blue', label = \"Standard\")\n",
    "plt.axhline(y = rec_mean, color = \"b\", linestyle = \"-\", linewidth=0.5)\n",
    "plt.axvline(x = pop_mean, color = \"b\", linestyle = \"-\", linewidth=0.5)\n",
    "\n",
    "plt.legend(loc=\"best\")\n",
    "plt.xlabel('Business Popularity',fontsize=12)  \n",
    "plt.ylabel('Recommendation frequency',fontsize=12)\n",
    "plt.title('Biased ItemCF vs Standard ItemCF', fontsize=13)\n",
    "\n",
    "plt.savefig('Bias CF in Cha.png')\n",
    "plt.show()"
   ]
  },
  {
   "cell_type": "markdown",
   "id": "advised-glucose",
   "metadata": {},
   "source": [
    "### Evaluation"
   ]
  },
  {
   "cell_type": "code",
   "execution_count": 48,
   "id": "bulgarian-electron",
   "metadata": {},
   "outputs": [
    {
     "name": "stdout",
     "output_type": "stream",
     "text": [
      "Total business number = 4686\n",
      "Build user co-rated business matrix ...\n",
      "Build user co-rated businesses matrix success!\n",
      "Calculating businesses similarity matrix ...\n",
      "Calculate businesses similarity matrix success!\n"
     ]
    }
   ],
   "source": [
    "# for training set\n",
    "business_sim_matrix,_ = get_sim(trainSet)"
   ]
  },
  {
   "cell_type": "code",
   "execution_count": 49,
   "id": "adaptive-sponsorship",
   "metadata": {},
   "outputs": [],
   "source": [
    "def predict_bias (aim_user, aim_bid, business_sim_matrix,data, bg,bu, bi, N):\n",
    "    pred = 0\n",
    "    w_sum = 0\n",
    "    count = 0\n",
    "    N = 20\n",
    "\n",
    "    rated_businesses = data[aim_user]\n",
    "    if aim_bid not in business_sim_matrix.keys():\n",
    "        return 0\n",
    "    else:\n",
    "        cand_list = sorted(business_sim_matrix[aim_bid].items(), key=itemgetter(1), reverse=True)\n",
    "\n",
    "    for bid, w in cand_list:\n",
    "        if bid != aim_bid and bid in rated_businesses:\n",
    "            rating = trainSet[aim_user][bid]\n",
    "            pred += w * (rating - (bu[aim_user]+bi[bid]+bg))\n",
    "            w_sum += w\n",
    "            count += 1\n",
    "            if count == N:\n",
    "                break\n",
    "\n",
    "    # predict\n",
    "    if w_sum == 0:\n",
    "        result = 0\n",
    "    else:\n",
    "        result =  (pred / w_sum) + (bu[aim_user]+bi[aim_bid]+bg)\n",
    "        \n",
    "    return result"
   ]
  },
  {
   "cell_type": "code",
   "execution_count": 51,
   "id": "closed-committee",
   "metadata": {},
   "outputs": [
    {
     "name": "stdout",
     "output_type": "stream",
     "text": [
      "The overall RMSE of the test set is  1.8184637005246647\n"
     ]
    }
   ],
   "source": [
    "# predicted ratings\n",
    "pred_ratings = []\n",
    "N = 20\n",
    "\n",
    "for index in range(len(test)):\n",
    "    #print(index)\n",
    "    uid = test['userId'][index]\n",
    "    bid = test['businessId'][index]\n",
    "    pred_ratings.append(predict_bias(uid, bid, business_sim_matrix, trainSet, avg_rating_overall, avg_rating_users, avg_rating_items,N))\n",
    "\n",
    "MSE = np.mean(pow(test[\"rating\"] - pred_ratings, 2))\n",
    "RMSE = np.sqrt(MSE)\n",
    "print(\"The overall RMSE of the test set is \",RMSE)"
   ]
  }
 ],
 "metadata": {
  "kernelspec": {
   "display_name": "Python 3",
   "language": "python",
   "name": "python3"
  },
  "language_info": {
   "codemirror_mode": {
    "name": "ipython",
    "version": 3
   },
   "file_extension": ".py",
   "mimetype": "text/x-python",
   "name": "python",
   "nbconvert_exporter": "python",
   "pygments_lexer": "ipython3",
   "version": "3.9.2"
  }
 },
 "nbformat": 4,
 "nbformat_minor": 5
}
