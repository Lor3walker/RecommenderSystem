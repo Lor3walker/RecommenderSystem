{
 "cells": [
  {
   "cell_type": "code",
   "execution_count": 1,
   "id": "aboriginal-description",
   "metadata": {},
   "outputs": [
    {
     "name": "stderr",
     "output_type": "stream",
     "text": [
      "D:\\ProgramData\\Anaconda3\\envs\\venv\\lib\\site-packages\\fuzzywuzzy\\fuzz.py:11: UserWarning: Using slow pure-python SequenceMatcher. Install python-Levenshtein to remove this warning\n",
      "  warnings.warn('Using slow pure-python SequenceMatcher. Install python-Levenshtein to remove this warning')\n"
     ]
    }
   ],
   "source": [
    "import os\n",
    "import time\n",
    "\n",
    "import json\n",
    "\n",
    "from operator import itemgetter\n",
    "\n",
    "# data science imports\n",
    "import random\n",
    "import math\n",
    "import numpy as np\n",
    "import pandas as pd\n",
    "from scipy.sparse import csr_matrix\n",
    "from sklearn.neighbors import NearestNeighbors\n",
    "\n",
    "# utils import\n",
    "from fuzzywuzzy import fuzz\n",
    "\n",
    "# visualization imports\n",
    "import seaborn as sns\n",
    "import matplotlib.pyplot as plt"
   ]
  },
  {
   "cell_type": "markdown",
   "id": "biblical-intelligence",
   "metadata": {},
   "source": [
    "## Load Json Data"
   ]
  },
  {
   "cell_type": "code",
   "execution_count": 2,
   "id": "divided-reporter",
   "metadata": {},
   "outputs": [],
   "source": [
    "def read_josn (path):\n",
    "    file = open(path, \"r\", encoding = 'utf-8')\n",
    "    df = []\n",
    "    for line in file.readlines():\n",
    "        dic = json.loads(line)\n",
    "        df.append(dic)\n",
    "    return df"
   ]
  },
  {
   "cell_type": "code",
   "execution_count": 3,
   "id": "reliable-operations",
   "metadata": {},
   "outputs": [],
   "source": [
    "# load business data\n",
    "path = \"data/Montreal_Data/Montreal_business.json\"\n",
    "business_list = read_josn(path)\n",
    "# load reviews data\n",
    "path = \"data/Montreal_Data/Montreal_Review.json\"\n",
    "review_list = read_josn(path)\n",
    "# load user data\n",
    "path = \"data/Montreal_Data/Montreal_User.json\"\n",
    "user_list = read_josn(path)"
   ]
  },
  {
   "cell_type": "markdown",
   "id": "quantitative-verification",
   "metadata": {},
   "source": [
    "## Transform to dataframe"
   ]
  },
  {
   "cell_type": "code",
   "execution_count": 4,
   "id": "judicial-stream",
   "metadata": {},
   "outputs": [
    {
     "data": {
      "text/html": [
       "<div>\n",
       "<style scoped>\n",
       "    .dataframe tbody tr th:only-of-type {\n",
       "        vertical-align: middle;\n",
       "    }\n",
       "\n",
       "    .dataframe tbody tr th {\n",
       "        vertical-align: top;\n",
       "    }\n",
       "\n",
       "    .dataframe thead th {\n",
       "        text-align: right;\n",
       "    }\n",
       "</style>\n",
       "<table border=\"1\" class=\"dataframe\">\n",
       "  <thead>\n",
       "    <tr style=\"text-align: right;\">\n",
       "      <th></th>\n",
       "      <th>RawBusinessId</th>\n",
       "      <th>businessId</th>\n",
       "      <th>title</th>\n",
       "    </tr>\n",
       "  </thead>\n",
       "  <tbody>\n",
       "    <tr>\n",
       "      <th>0</th>\n",
       "      <td>i_oghUPqLzzJtxC6Zm-D2A</td>\n",
       "      <td>1</td>\n",
       "      <td>Braseiro</td>\n",
       "    </tr>\n",
       "    <tr>\n",
       "      <th>1</th>\n",
       "      <td>735UkyT4px_oeW3iyotGmA</td>\n",
       "      <td>2</td>\n",
       "      <td>Parc-nature de l'Île-de-la-Visitation</td>\n",
       "    </tr>\n",
       "    <tr>\n",
       "      <th>2</th>\n",
       "      <td>SWX0K1dpy4fcRq-ktZxmCg</td>\n",
       "      <td>3</td>\n",
       "      <td>Bistro des Moulins</td>\n",
       "    </tr>\n",
       "    <tr>\n",
       "      <th>3</th>\n",
       "      <td>spi9UEWyNrq2O4y5DD84LA</td>\n",
       "      <td>4</td>\n",
       "      <td>Restaurant Nhu Y</td>\n",
       "    </tr>\n",
       "    <tr>\n",
       "      <th>4</th>\n",
       "      <td>cBQDYO0dIpG6--I3DMiWoQ</td>\n",
       "      <td>5</td>\n",
       "      <td>Secrets de Femme</td>\n",
       "    </tr>\n",
       "  </tbody>\n",
       "</table>\n",
       "</div>"
      ],
      "text/plain": [
       "            RawBusinessId  businessId                                  title\n",
       "0  i_oghUPqLzzJtxC6Zm-D2A           1                               Braseiro\n",
       "1  735UkyT4px_oeW3iyotGmA           2  Parc-nature de l'Île-de-la-Visitation\n",
       "2  SWX0K1dpy4fcRq-ktZxmCg           3                     Bistro des Moulins\n",
       "3  spi9UEWyNrq2O4y5DD84LA           4                       Restaurant Nhu Y\n",
       "4  cBQDYO0dIpG6--I3DMiWoQ           5                       Secrets de Femme"
      ]
     },
     "execution_count": 4,
     "metadata": {},
     "output_type": "execute_result"
    }
   ],
   "source": [
    "# business list into dataframe\n",
    "df_business = pd.DataFrame()\n",
    "business_id = []\n",
    "name = []\n",
    "for element in business_list:\n",
    "    business_id.append(element[\"business_id\"])\n",
    "    name.append(element[\"name\"])\n",
    "\n",
    "Business_Num_Id = {}\n",
    "U = 1\n",
    "B = 1\n",
    "Business_Id = []\n",
    "for index in range(len(business_id)):\n",
    "    if business_id[index] not in Business_Num_Id.keys():\n",
    "        Business_Num_Id[business_id[index]] = B\n",
    "        B = B + 1\n",
    "    Business_Id.append(Business_Num_Id[business_id[index]])\n",
    "    \n",
    "\n",
    "df_business[\"RawBusinessId\"] = business_id\n",
    "df_business[\"businessId\"] = Business_Id\n",
    "df_business[\"title\"] = name\n",
    "\n",
    "df_business.head()"
   ]
  },
  {
   "cell_type": "code",
   "execution_count": 5,
   "id": "sudden-worth",
   "metadata": {},
   "outputs": [
    {
     "data": {
      "text/html": [
       "<div>\n",
       "<style scoped>\n",
       "    .dataframe tbody tr th:only-of-type {\n",
       "        vertical-align: middle;\n",
       "    }\n",
       "\n",
       "    .dataframe tbody tr th {\n",
       "        vertical-align: top;\n",
       "    }\n",
       "\n",
       "    .dataframe thead th {\n",
       "        text-align: right;\n",
       "    }\n",
       "</style>\n",
       "<table border=\"1\" class=\"dataframe\">\n",
       "  <thead>\n",
       "    <tr style=\"text-align: right;\">\n",
       "      <th></th>\n",
       "      <th>RawUserId</th>\n",
       "      <th>UserId</th>\n",
       "      <th>name</th>\n",
       "    </tr>\n",
       "  </thead>\n",
       "  <tbody>\n",
       "    <tr>\n",
       "      <th>0</th>\n",
       "      <td>jx-BchSqX2PlnMflR62Urw</td>\n",
       "      <td>1</td>\n",
       "      <td>Jack</td>\n",
       "    </tr>\n",
       "    <tr>\n",
       "      <th>1</th>\n",
       "      <td>4TCOItk-gIJROyNA5ftZ-Q</td>\n",
       "      <td>2</td>\n",
       "      <td>Alma</td>\n",
       "    </tr>\n",
       "    <tr>\n",
       "      <th>2</th>\n",
       "      <td>i7dva-DqwjyAtLVc2idhNA</td>\n",
       "      <td>3</td>\n",
       "      <td>Pradeep</td>\n",
       "    </tr>\n",
       "    <tr>\n",
       "      <th>3</th>\n",
       "      <td>U4INQZOPSUaj8hMjLlZ3KA</td>\n",
       "      <td>4</td>\n",
       "      <td>Michael</td>\n",
       "    </tr>\n",
       "    <tr>\n",
       "      <th>4</th>\n",
       "      <td>B4GZ3kX1TpxJUCkpPqYqng</td>\n",
       "      <td>5</td>\n",
       "      <td>Vivian</td>\n",
       "    </tr>\n",
       "  </tbody>\n",
       "</table>\n",
       "</div>"
      ],
      "text/plain": [
       "                RawUserId  UserId     name\n",
       "0  jx-BchSqX2PlnMflR62Urw       1     Jack\n",
       "1  4TCOItk-gIJROyNA5ftZ-Q       2     Alma\n",
       "2  i7dva-DqwjyAtLVc2idhNA       3  Pradeep\n",
       "3  U4INQZOPSUaj8hMjLlZ3KA       4  Michael\n",
       "4  B4GZ3kX1TpxJUCkpPqYqng       5   Vivian"
      ]
     },
     "execution_count": 5,
     "metadata": {},
     "output_type": "execute_result"
    }
   ],
   "source": [
    "# User list into dataframe\n",
    "df_user = pd.DataFrame()\n",
    "user_id = []\n",
    "name = []\n",
    "for element in user_list:\n",
    "    user_id.append(element[\"user_id\"])\n",
    "    name.append(element[\"name\"])\n",
    "\n",
    "User_Num_Id = {}\n",
    "U = 1\n",
    "User_Id = []\n",
    "for index in range(len(user_id)):\n",
    "    if user_id[index] not in User_Num_Id.keys():\n",
    "        User_Num_Id[user_id[index]] = U\n",
    "        U = U + 1\n",
    "    User_Id.append(User_Num_Id[user_id[index]])\n",
    "    \n",
    "df_user[\"RawUserId\"] = user_id\n",
    "df_user[\"UserId\"] = User_Id\n",
    "df_user[\"name\"] = name\n",
    "\n",
    "df_user.head()"
   ]
  },
  {
   "cell_type": "code",
   "execution_count": 6,
   "id": "subject-format",
   "metadata": {},
   "outputs": [
    {
     "data": {
      "text/html": [
       "<div>\n",
       "<style scoped>\n",
       "    .dataframe tbody tr th:only-of-type {\n",
       "        vertical-align: middle;\n",
       "    }\n",
       "\n",
       "    .dataframe tbody tr th {\n",
       "        vertical-align: top;\n",
       "    }\n",
       "\n",
       "    .dataframe thead th {\n",
       "        text-align: right;\n",
       "    }\n",
       "</style>\n",
       "<table border=\"1\" class=\"dataframe\">\n",
       "  <thead>\n",
       "    <tr style=\"text-align: right;\">\n",
       "      <th></th>\n",
       "      <th>userId</th>\n",
       "      <th>businessId</th>\n",
       "      <th>rating</th>\n",
       "    </tr>\n",
       "  </thead>\n",
       "  <tbody>\n",
       "    <tr>\n",
       "      <th>0</th>\n",
       "      <td>579</td>\n",
       "      <td>604</td>\n",
       "      <td>3.0</td>\n",
       "    </tr>\n",
       "    <tr>\n",
       "      <th>1</th>\n",
       "      <td>5400</td>\n",
       "      <td>91</td>\n",
       "      <td>4.0</td>\n",
       "    </tr>\n",
       "    <tr>\n",
       "      <th>2</th>\n",
       "      <td>1273</td>\n",
       "      <td>442</td>\n",
       "      <td>3.0</td>\n",
       "    </tr>\n",
       "    <tr>\n",
       "      <th>3</th>\n",
       "      <td>1202</td>\n",
       "      <td>478</td>\n",
       "      <td>5.0</td>\n",
       "    </tr>\n",
       "    <tr>\n",
       "      <th>4</th>\n",
       "      <td>3358</td>\n",
       "      <td>202</td>\n",
       "      <td>1.0</td>\n",
       "    </tr>\n",
       "  </tbody>\n",
       "</table>\n",
       "</div>"
      ],
      "text/plain": [
       "   userId  businessId  rating\n",
       "0     579         604     3.0\n",
       "1    5400          91     4.0\n",
       "2    1273         442     3.0\n",
       "3    1202         478     5.0\n",
       "4    3358         202     1.0"
      ]
     },
     "execution_count": 6,
     "metadata": {},
     "output_type": "execute_result"
    }
   ],
   "source": [
    "# review list into dataframe\n",
    "df_ratings = pd.DataFrame()\n",
    "#review_id = []\n",
    "user_id = []\n",
    "business_id = []\n",
    "ratings = []\n",
    "for element in review_list:\n",
    "    uid = User_Num_Id[element[\"user_id\"]]\n",
    "    bid = Business_Num_Id[element[\"business_id\"]]\n",
    "    \n",
    "    user_id.append(uid)\n",
    "    business_id.append(bid)\n",
    "    ratings.append(element[\"stars\"])\n",
    "\n",
    "#df_ratings[\"review_id\"] = review_id\n",
    "df_ratings[\"userId\"] = user_id\n",
    "df_ratings[\"businessId\"] = business_id\n",
    "df_ratings[\"rating\"] = ratings\n",
    "\n",
    "df_ratings.head()"
   ]
  },
  {
   "cell_type": "markdown",
   "id": "figured-soccer",
   "metadata": {},
   "source": [
    "## Filter Data"
   ]
  },
  {
   "cell_type": "markdown",
   "id": "hazardous-listening",
   "metadata": {},
   "source": [
    "### For Business"
   ]
  },
  {
   "cell_type": "code",
   "execution_count": 7,
   "id": "formal-truck",
   "metadata": {
    "tags": []
   },
   "outputs": [
    {
     "data": {
      "text/html": [
       "<div>\n",
       "<style scoped>\n",
       "    .dataframe tbody tr th:only-of-type {\n",
       "        vertical-align: middle;\n",
       "    }\n",
       "\n",
       "    .dataframe tbody tr th {\n",
       "        vertical-align: top;\n",
       "    }\n",
       "\n",
       "    .dataframe thead th {\n",
       "        text-align: right;\n",
       "    }\n",
       "</style>\n",
       "<table border=\"1\" class=\"dataframe\">\n",
       "  <thead>\n",
       "    <tr style=\"text-align: right;\">\n",
       "      <th></th>\n",
       "      <th>count</th>\n",
       "    </tr>\n",
       "    <tr>\n",
       "      <th>businessId</th>\n",
       "      <th></th>\n",
       "    </tr>\n",
       "  </thead>\n",
       "  <tbody>\n",
       "    <tr>\n",
       "      <th>1</th>\n",
       "      <td>22</td>\n",
       "    </tr>\n",
       "    <tr>\n",
       "      <th>2</th>\n",
       "      <td>10</td>\n",
       "    </tr>\n",
       "    <tr>\n",
       "      <th>3</th>\n",
       "      <td>3</td>\n",
       "    </tr>\n",
       "    <tr>\n",
       "      <th>4</th>\n",
       "      <td>11</td>\n",
       "    </tr>\n",
       "    <tr>\n",
       "      <th>5</th>\n",
       "      <td>3</td>\n",
       "    </tr>\n",
       "  </tbody>\n",
       "</table>\n",
       "</div>"
      ],
      "text/plain": [
       "            count\n",
       "businessId       \n",
       "1              22\n",
       "2              10\n",
       "3               3\n",
       "4              11\n",
       "5               3"
      ]
     },
     "execution_count": 7,
     "metadata": {},
     "output_type": "execute_result"
    }
   ],
   "source": [
    "# get rating frequency\n",
    "df_business_cnt = pd.DataFrame(df_ratings.groupby('businessId').size(), columns=['count'])\n",
    "df_business_cnt.head()"
   ]
  },
  {
   "cell_type": "code",
   "execution_count": 8,
   "id": "earlier-conclusion",
   "metadata": {
    "tags": []
   },
   "outputs": [
    {
     "data": {
      "text/plain": [
       "1.00    2348.0\n",
       "0.95      84.0\n",
       "0.90      51.0\n",
       "0.85      35.0\n",
       "0.80      27.0\n",
       "0.75      21.0\n",
       "0.70      16.6\n",
       "0.65      14.0\n",
       "Name: count, dtype: float64"
      ]
     },
     "execution_count": 8,
     "metadata": {},
     "output_type": "execute_result"
    }
   ],
   "source": [
    "# top quantiles of rating counts\n",
    "df_business_cnt['count'].quantile(np.arange(1, 0.6, -0.05))"
   ]
  },
  {
   "cell_type": "code",
   "execution_count": 9,
   "id": "descending-dynamics",
   "metadata": {},
   "outputs": [
    {
     "name": "stdout",
     "output_type": "stream",
     "text": [
      "shape of original ratings data:  (151238, 3)\n",
      "shape of ratings data after dropping unpopular business:  (133714, 3)\n"
     ]
    }
   ],
   "source": [
    "# filter data - movies count less than 20\n",
    "popularity_thres = 10\n",
    "popular_business = list(set(df_business_cnt.query('count >= @popularity_thres').index))\n",
    "df_ratings_drop_business = df_ratings[df_ratings.businessId.isin(popular_business)]\n",
    "print('shape of original ratings data: ', df_ratings.shape)\n",
    "print('shape of ratings data after dropping unpopular business: ', df_ratings_drop_business.shape)"
   ]
  },
  {
   "cell_type": "markdown",
   "id": "national-rover",
   "metadata": {},
   "source": [
    "### For Users"
   ]
  },
  {
   "cell_type": "code",
   "execution_count": 10,
   "id": "above-package",
   "metadata": {
    "tags": []
   },
   "outputs": [
    {
     "data": {
      "text/html": [
       "<div>\n",
       "<style scoped>\n",
       "    .dataframe tbody tr th:only-of-type {\n",
       "        vertical-align: middle;\n",
       "    }\n",
       "\n",
       "    .dataframe tbody tr th {\n",
       "        vertical-align: top;\n",
       "    }\n",
       "\n",
       "    .dataframe thead th {\n",
       "        text-align: right;\n",
       "    }\n",
       "</style>\n",
       "<table border=\"1\" class=\"dataframe\">\n",
       "  <thead>\n",
       "    <tr style=\"text-align: right;\">\n",
       "      <th></th>\n",
       "      <th>count</th>\n",
       "    </tr>\n",
       "    <tr>\n",
       "      <th>userId</th>\n",
       "      <th></th>\n",
       "    </tr>\n",
       "  </thead>\n",
       "  <tbody>\n",
       "    <tr>\n",
       "      <th>1</th>\n",
       "      <td>2</td>\n",
       "    </tr>\n",
       "    <tr>\n",
       "      <th>2</th>\n",
       "      <td>11</td>\n",
       "    </tr>\n",
       "    <tr>\n",
       "      <th>3</th>\n",
       "      <td>49</td>\n",
       "    </tr>\n",
       "    <tr>\n",
       "      <th>4</th>\n",
       "      <td>20</td>\n",
       "    </tr>\n",
       "    <tr>\n",
       "      <th>5</th>\n",
       "      <td>4</td>\n",
       "    </tr>\n",
       "  </tbody>\n",
       "</table>\n",
       "</div>"
      ],
      "text/plain": [
       "        count\n",
       "userId       \n",
       "1           2\n",
       "2          11\n",
       "3          49\n",
       "4          20\n",
       "5           4"
      ]
     },
     "execution_count": 10,
     "metadata": {},
     "output_type": "execute_result"
    }
   ],
   "source": [
    "# get number of ratings given by every user\n",
    "df_users_cnt = pd.DataFrame(df_ratings_drop_business.groupby('userId').size(), columns=['count'])\n",
    "df_users_cnt.head()"
   ]
  },
  {
   "cell_type": "code",
   "execution_count": 11,
   "id": "olympic-retirement",
   "metadata": {
    "tags": []
   },
   "outputs": [
    {
     "data": {
      "text/plain": [
       "1.00    617.0\n",
       "0.95      9.0\n",
       "0.90      5.0\n",
       "0.85      4.0\n",
       "0.80      3.0\n",
       "0.75      3.0\n",
       "0.70      2.0\n",
       "0.65      2.0\n",
       "0.60      2.0\n",
       "0.55      1.0\n",
       "Name: count, dtype: float64"
      ]
     },
     "execution_count": 11,
     "metadata": {},
     "output_type": "execute_result"
    }
   ],
   "source": [
    "df_users_cnt['count'].quantile(np.arange(1, 0.5, -0.05))"
   ]
  },
  {
   "cell_type": "code",
   "execution_count": 12,
   "id": "innovative-edition",
   "metadata": {},
   "outputs": [
    {
     "name": "stdout",
     "output_type": "stream",
     "text": [
      "shape of original ratings data:  (151238, 3)\n",
      "shape of ratings data after dropping both unpopular business and inactive users:  (93527, 3)\n"
     ]
    }
   ],
   "source": [
    "# filter data\n",
    "ratings_thres = 3\n",
    "active_users = list(set(df_users_cnt.query('count >= @ratings_thres').index))\n",
    "df_ratings_drop_users = df_ratings_drop_business[df_ratings_drop_business.userId.isin(active_users)]\n",
    "print('shape of original ratings data: ', df_ratings.shape)\n",
    "print('shape of ratings data after dropping both unpopular business and inactive users: ', df_ratings_drop_users.shape)"
   ]
  },
  {
   "cell_type": "code",
   "execution_count": 13,
   "id": "careful-momentum",
   "metadata": {
    "tags": []
   },
   "outputs": [
    {
     "data": {
      "text/html": [
       "<div>\n",
       "<style scoped>\n",
       "    .dataframe tbody tr th:only-of-type {\n",
       "        vertical-align: middle;\n",
       "    }\n",
       "\n",
       "    .dataframe tbody tr th {\n",
       "        vertical-align: top;\n",
       "    }\n",
       "\n",
       "    .dataframe thead th {\n",
       "        text-align: right;\n",
       "    }\n",
       "</style>\n",
       "<table border=\"1\" class=\"dataframe\">\n",
       "  <thead>\n",
       "    <tr style=\"text-align: right;\">\n",
       "      <th></th>\n",
       "      <th>userId</th>\n",
       "      <th>businessId</th>\n",
       "      <th>rating</th>\n",
       "    </tr>\n",
       "  </thead>\n",
       "  <tbody>\n",
       "    <tr>\n",
       "      <th>0</th>\n",
       "      <td>579</td>\n",
       "      <td>604</td>\n",
       "      <td>3.0</td>\n",
       "    </tr>\n",
       "    <tr>\n",
       "      <th>1</th>\n",
       "      <td>5400</td>\n",
       "      <td>91</td>\n",
       "      <td>4.0</td>\n",
       "    </tr>\n",
       "    <tr>\n",
       "      <th>2</th>\n",
       "      <td>1273</td>\n",
       "      <td>442</td>\n",
       "      <td>3.0</td>\n",
       "    </tr>\n",
       "    <tr>\n",
       "      <th>3</th>\n",
       "      <td>1202</td>\n",
       "      <td>478</td>\n",
       "      <td>5.0</td>\n",
       "    </tr>\n",
       "    <tr>\n",
       "      <th>4</th>\n",
       "      <td>5359</td>\n",
       "      <td>521</td>\n",
       "      <td>5.0</td>\n",
       "    </tr>\n",
       "    <tr>\n",
       "      <th>...</th>\n",
       "      <td>...</td>\n",
       "      <td>...</td>\n",
       "      <td>...</td>\n",
       "    </tr>\n",
       "    <tr>\n",
       "      <th>93522</th>\n",
       "      <td>1116</td>\n",
       "      <td>6129</td>\n",
       "      <td>2.0</td>\n",
       "    </tr>\n",
       "    <tr>\n",
       "      <th>93523</th>\n",
       "      <td>5720</td>\n",
       "      <td>5837</td>\n",
       "      <td>1.0</td>\n",
       "    </tr>\n",
       "    <tr>\n",
       "      <th>93524</th>\n",
       "      <td>27409</td>\n",
       "      <td>5821</td>\n",
       "      <td>5.0</td>\n",
       "    </tr>\n",
       "    <tr>\n",
       "      <th>93525</th>\n",
       "      <td>20833</td>\n",
       "      <td>5912</td>\n",
       "      <td>5.0</td>\n",
       "    </tr>\n",
       "    <tr>\n",
       "      <th>93526</th>\n",
       "      <td>31926</td>\n",
       "      <td>6097</td>\n",
       "      <td>4.0</td>\n",
       "    </tr>\n",
       "  </tbody>\n",
       "</table>\n",
       "<p>93527 rows × 3 columns</p>\n",
       "</div>"
      ],
      "text/plain": [
       "       userId  businessId  rating\n",
       "0         579         604     3.0\n",
       "1        5400          91     4.0\n",
       "2        1273         442     3.0\n",
       "3        1202         478     5.0\n",
       "4        5359         521     5.0\n",
       "...       ...         ...     ...\n",
       "93522    1116        6129     2.0\n",
       "93523    5720        5837     1.0\n",
       "93524   27409        5821     5.0\n",
       "93525   20833        5912     5.0\n",
       "93526   31926        6097     4.0\n",
       "\n",
       "[93527 rows x 3 columns]"
      ]
     },
     "execution_count": 13,
     "metadata": {},
     "output_type": "execute_result"
    }
   ],
   "source": [
    "df_ratings_drop_users.index = list(range(0, df_ratings_drop_users.shape[0]))\n",
    "df_ratings_drop_users"
   ]
  },
  {
   "cell_type": "code",
   "execution_count": 14,
   "id": "exceptional-banana",
   "metadata": {},
   "outputs": [
    {
     "name": "stdout",
     "output_type": "stream",
     "text": [
      "There are 11036 unique users and 2891 unique movies in this data set\n"
     ]
    }
   ],
   "source": [
    "# the number of users and movies\n",
    "num_users = len(df_ratings_drop_users.userId.unique())\n",
    "num_items = len(df_ratings_drop_users.businessId.unique())\n",
    "print('There are {} unique users and {} unique movies in this data set'.format(num_users, num_items))"
   ]
  },
  {
   "cell_type": "markdown",
   "id": "radio-prescription",
   "metadata": {},
   "source": [
    "## Split Data"
   ]
  },
  {
   "cell_type": "code",
   "execution_count": 15,
   "id": "backed-lounge",
   "metadata": {},
   "outputs": [
    {
     "name": "stdout",
     "output_type": "stream",
     "text": [
      "       userId  businessId  rating\n",
      "0        1509        1041     5.0\n",
      "1         901        3653     4.0\n",
      "2       20056        4747     2.0\n",
      "3       14011         746     5.0\n",
      "4        1603        2737     5.0\n",
      "...       ...         ...     ...\n",
      "74816    3243        4429     3.0\n",
      "74817    9517        2780     5.0\n",
      "74818    9983        4635     4.0\n",
      "74819    1994        2565     1.0\n",
      "74820    2697        6121     5.0\n",
      "\n",
      "[74821 rows x 3 columns]\n"
     ]
    }
   ],
   "source": [
    "# split the data - 80% training and 20% test\n",
    "from sklearn.model_selection import train_test_split\n",
    "training,test = train_test_split(df_ratings_drop_users, test_size=0.2, stratify=df_ratings_drop_users['userId'],random_state=0)\n",
    "training.index = list(range(0, training.shape[0]))\n",
    "print (training)"
   ]
  },
  {
   "cell_type": "code",
   "execution_count": 16,
   "id": "inside-traveler",
   "metadata": {},
   "outputs": [
    {
     "name": "stdout",
     "output_type": "stream",
     "text": [
      "       userId  businessId  rating\n",
      "0       23159        5821     3.0\n",
      "1        1498        2007     5.0\n",
      "2        3112         853     4.0\n",
      "3        2077        2088     4.0\n",
      "4        1200        4731     2.0\n",
      "...       ...         ...     ...\n",
      "18701    2416        6076     4.0\n",
      "18702   13650        3076     4.0\n",
      "18703    3913         937     3.0\n",
      "18704   38090        4643     4.0\n",
      "18705   29624        6239     3.0\n",
      "\n",
      "[18706 rows x 3 columns]\n"
     ]
    }
   ],
   "source": [
    "test.index = list(range(0, test.shape[0]))\n",
    "print(test)"
   ]
  },
  {
   "cell_type": "markdown",
   "id": "thorough-equilibrium",
   "metadata": {},
   "source": [
    "## Transform dataframe to dictionary"
   ]
  },
  {
   "cell_type": "code",
   "execution_count": 17,
   "id": "national-blink",
   "metadata": {},
   "outputs": [
    {
     "name": "stdout",
     "output_type": "stream",
     "text": [
      "dataDic = 93527\n",
      "dataDic = 74821\n",
      "dataDic = 18706\n"
     ]
    }
   ],
   "source": [
    "def get_dic(data):    \n",
    "    dataDic = {}\n",
    "    dataDic_len = 0\n",
    "    # 遍历data的每一行， 把userId, movidId, rating按照{user: {movidId: rating}}的方式存储， 当然定义一个随机种子进行数据集划分\n",
    "    for ele in data.itertuples():   # 遍历行这里推荐用itertuples， 比iterrows会高效很多\n",
    "        user, business, rating = getattr(ele, 'userId'), getattr(ele, 'businessId'), getattr(ele, 'rating')\n",
    "\n",
    "        dataDic.setdefault(user, {})\n",
    "        dataDic[user][business] = rating\n",
    "        dataDic_len += 1\n",
    "\n",
    "    print('dataDic = %s' % dataDic_len)\n",
    "    return (dataDic, dataDic_len)\n",
    "\n",
    "dataDic, dataDic_len = get_dic(df_ratings_drop_users)\n",
    "trainSet, trainSet_len = get_dic(training)\n",
    "testSet, testSet_len = get_dic(test)"
   ]
  },
  {
   "cell_type": "markdown",
   "id": "competent-mills",
   "metadata": {},
   "source": [
    "## Get Similarity"
   ]
  },
  {
   "cell_type": "code",
   "execution_count": 18,
   "id": "distributed-stupid",
   "metadata": {},
   "outputs": [],
   "source": [
    "def get_sim (dataDic):\n",
    "    # Calculate the popularity of each business, that is, the total number of times each movie is watched by users.\n",
    "    business_popular = {}\n",
    "    for user, businesses in dataDic.items(): \n",
    "        for business in businesses:  \n",
    "            if business not in business_popular:     \n",
    "                business_popular[business] = 0  \n",
    "            business_popular[business] += 1\n",
    "\n",
    "    business_count = len(business_popular)\n",
    "    print('Total business number = %d' % business_count)\n",
    "\n",
    "\n",
    "    # business similarity matrix\n",
    "    print('Build user co-rated business matrix ...')\n",
    "    business_sim_matrix = {}\n",
    "    for user, businesses in dataDic.items():\n",
    "        # one business b1\n",
    "        for b1 in businesses:           \n",
    "            # another business b2\n",
    "            for b2 in businesses:\n",
    "                if b1 == b2:\n",
    "                    continue\n",
    "                business_sim_matrix.setdefault(b1, {})      \n",
    "                # Set the value of the dictionary to the form of a dictionary\n",
    "                business_sim_matrix[b1].setdefault(b2, 0)\n",
    "\n",
    "                # cos-sim molecular\n",
    "                business_sim_matrix[b1][b2] += businesses[b1]*businesses[b2]\n",
    "\n",
    "    print('Build user co-rated businesses matrix success!')\n",
    "\n",
    "    # cos-sim Denominator\n",
    "    temp_sim = {}\n",
    "    for user, businesses in dataDic.items():\n",
    "        for b in businesses:\n",
    "            if b not in temp_sim:     \n",
    "                temp_sim[b] = 0  \n",
    "            temp_sim[b] += math.pow(businesses[b],2)\n",
    "\n",
    "    # Calculate similarity between businesses\n",
    "    print('Calculating businesses similarity matrix ...')\n",
    "    for b1, related_businesses in business_sim_matrix.items():\n",
    "        for b2, count in related_businesses.items():    \n",
    "            if temp_sim[b1] == 0 or temp_sim[b2] == 0:\n",
    "                # the business that no user rated it\n",
    "                business_sim_matrix[b1][b2] = 0\n",
    "            else:\n",
    "                # cos-sim\n",
    "                business_sim_matrix[b1][b2] = count / math.sqrt(temp_sim[b1] * temp_sim[b2]) \n",
    "    print('Calculate businesses similarity matrix success!')\n",
    "    \n",
    "    return business_sim_matrix, business_popular"
   ]
  },
  {
   "cell_type": "code",
   "execution_count": 19,
   "id": "compliant-quarter",
   "metadata": {},
   "outputs": [
    {
     "name": "stdout",
     "output_type": "stream",
     "text": [
      "Total business number = 2891\n",
      "Build user co-rated business matrix ...\n",
      "Build user co-rated businesses matrix success!\n",
      "Calculating businesses similarity matrix ...\n",
      "Calculate businesses similarity matrix success!\n"
     ]
    }
   ],
   "source": [
    "business_sim_matrix, business_popular = get_sim(dataDic)\n",
    "#business_sim_matrix, business_popular = get_sim(trainSet)"
   ]
  },
  {
   "cell_type": "code",
   "execution_count": 20,
   "id": "tracked-wright",
   "metadata": {
    "tags": []
   },
   "outputs": [],
   "source": [
    "# recomend top-N list to users\n",
    "def recommend(aim_user, data, sim_matrix, k=20, n=20):\n",
    "    rank ={}\n",
    "    # find the rated business that traget user rated before\n",
    "    rated_businesses = data[aim_user]      \n",
    "    \n",
    "    # simiarity sum\n",
    "    w_sum = {}\n",
    "    \n",
    "    for business, rating in rated_businesses.items():\n",
    "        # from rated businessses\n",
    "        if business not in sim_matrix.keys():\n",
    "            continue\n",
    "        for related_business, w in sorted(sim_matrix[business].items(), key=itemgetter(1), reverse=True)[:k]:\n",
    "            # If the user interacts with this item, skip\n",
    "            if related_business in rated_businesses:\n",
    "                continue\n",
    "            # Calculate the user's preference value for related_business, \n",
    "            # and initialize the value to 0\n",
    "            rank.setdefault(related_business, 0)\n",
    "            w_sum.setdefault(related_business, 0)\n",
    "            # weighted the rating and simialrity and record the similarity\n",
    "            rank[related_business] += w * (rating)\n",
    "            w_sum[related_business] += w\n",
    "    \n",
    "    # predict\n",
    "    for bid in rank.keys():\n",
    "        rank[bid] = (rank[bid] / w_sum[bid])\n",
    "    \n",
    "    # final list \n",
    "    result =  sorted(rank.items(), key=itemgetter(1), reverse=True)[:n]\n",
    "    # rank position\n",
    "    rank_position = list(range(1,len(result)+1))\n",
    "    \n",
    "    return result, rank_position"
   ]
  },
  {
   "cell_type": "markdown",
   "id": "homeless-beauty",
   "metadata": {},
   "source": [
    "#### 一个例子"
   ]
  },
  {
   "cell_type": "code",
   "execution_count": 27,
   "id": "golden-taste",
   "metadata": {
    "tags": []
   },
   "outputs": [],
   "source": [
    "aim_user = 1202\n",
    "recom_list, rank_posi = recommend(aim_user, dataDic, business_sim_matrix,k=20,n=20)\n",
    "#recom_list, rank_posi = recommend(aim_user, trainSet, business_sim_matrix,k=20,n=20)"
   ]
  },
  {
   "cell_type": "code",
   "execution_count": 28,
   "id": "original-bridge",
   "metadata": {
    "tags": []
   },
   "outputs": [
    {
     "data": {
      "text/plain": [
       "[(5178, 5.0),\n",
       " (35, 5.0),\n",
       " (4085, 5.0),\n",
       " (4658, 5.0),\n",
       " (3896, 5.0),\n",
       " (4838, 5.0),\n",
       " (3847, 5.0),\n",
       " (1919, 5.0),\n",
       " (3035, 5.0),\n",
       " (4365, 5.0),\n",
       " (3726, 5.0),\n",
       " (1932, 5.0),\n",
       " (1132, 5.0),\n",
       " (3451, 5.0),\n",
       " (1041, 5.0),\n",
       " (5764, 5.0),\n",
       " (3886, 5.0),\n",
       " (776, 5.0),\n",
       " (130, 5.0),\n",
       " (3129, 5.0)]"
      ]
     },
     "execution_count": 28,
     "metadata": {},
     "output_type": "execute_result"
    }
   ],
   "source": [
    "recom_list"
   ]
  },
  {
   "cell_type": "code",
   "execution_count": 29,
   "id": "backed-arthritis",
   "metadata": {
    "tags": []
   },
   "outputs": [
    {
     "data": {
      "text/plain": [
       "[1, 2, 3, 4, 5, 6, 7, 8, 9, 10, 11, 12, 13, 14, 15, 16, 17, 18, 19, 20]"
      ]
     },
     "execution_count": 29,
     "metadata": {},
     "output_type": "execute_result"
    }
   ],
   "source": [
    "rank_posi"
   ]
  },
  {
   "cell_type": "markdown",
   "id": "molecular-apparatus",
   "metadata": {},
   "source": [
    "## PRU"
   ]
  },
  {
   "cell_type": "code",
   "execution_count": 30,
   "id": "dense-marsh",
   "metadata": {},
   "outputs": [],
   "source": [
    "from scipy import stats\n",
    "\n",
    "def get_SRC(recom_list, rank_posi, business_popular):\n",
    "    # popularity list\n",
    "    popularity = []\n",
    "    for bid, rating in recom_list:\n",
    "        popularity.append(business_popular[bid])\n",
    "    \n",
    "    SRC,_ = stats.spearmanr(rank_posi, popularity)\n",
    "    \n",
    "    return SRC    "
   ]
  },
  {
   "cell_type": "code",
   "execution_count": 31,
   "id": "floating-timothy",
   "metadata": {},
   "outputs": [
    {
     "data": {
      "text/plain": [
       "0.5821737907003846"
      ]
     },
     "execution_count": 31,
     "metadata": {},
     "output_type": "execute_result"
    }
   ],
   "source": [
    "-get_SRC(recom_list, rank_posi, business_popular)"
   ]
  },
  {
   "cell_type": "code",
   "execution_count": 35,
   "id": "unsigned-tobacco",
   "metadata": {
    "tags": []
   },
   "outputs": [],
   "source": [
    "SRC_list = []\n",
    "SRC = 0\n",
    "pop_list = []\n",
    "for uid in list(dataDic.keys()):\n",
    "    #print(uid)\n",
    "    recom_list, rank_posi = recommend(uid, dataDic, business_sim_matrix, k = 20, n = 20)\n",
    "    SRC = get_SRC(recom_list, rank_posi, business_popular)\n",
    "    if np.isnan(SRC):\n",
    "        continue\n",
    "    SRC_list.append(SRC)\n",
    "    \n",
    "PRU = -np.mean(SRC_list)"
   ]
  },
  {
   "cell_type": "code",
   "execution_count": 36,
   "id": "heard-ethernet",
   "metadata": {
    "tags": []
   },
   "outputs": [
    {
     "data": {
      "text/plain": [
       "0.003407497808722875"
      ]
     },
     "execution_count": 36,
     "metadata": {},
     "output_type": "execute_result"
    }
   ],
   "source": [
    "PRU"
   ]
  },
  {
   "cell_type": "markdown",
   "id": "colonial-bidder",
   "metadata": {},
   "source": [
    "## PRI"
   ]
  },
  {
   "cell_type": "code",
   "execution_count": 34,
   "id": "lasting-thanksgiving",
   "metadata": {},
   "outputs": [
    {
     "data": {
      "text/plain": [
       "-0.146351639358309"
      ]
     },
     "execution_count": 34,
     "metadata": {},
     "output_type": "execute_result"
    }
   ],
   "source": [
    "ave_rank = {}\n",
    "rank_count = {}\n",
    "pop = {}\n",
    "for uid in list(dataDic.keys()):\n",
    "    recom_list, rank_posi = recommend(uid, dataDic, business_sim_matrix,k = 20, n = 20)\n",
    "    for index in range(len(recom_list)):\n",
    "        bid = recom_list[index][0]\n",
    "        ave_rank.setdefault(bid,0)\n",
    "        rank_count.setdefault(bid,0)\n",
    "        ave_rank[bid] += rank_posi[index]\n",
    "        rank_count[bid] += 1\n",
    "\n",
    "for business in ave_rank:\n",
    "    ave_rank[business] = ave_rank[business]/rank_count[business]\n",
    "    pop.setdefault(business,0)\n",
    "    pop[business] = business_popular[business]\n",
    "\n",
    "\n",
    "SRC,_ = stats.spearmanr(list(ave_rank.values()), list(pop.values()))\n",
    "PRI = -SRC\n",
    "PRI"
   ]
  },
  {
   "cell_type": "markdown",
   "id": "special-flood",
   "metadata": {},
   "source": [
    "## Plot Frequency"
   ]
  },
  {
   "cell_type": "code",
   "execution_count": 21,
   "id": "increasing-variation",
   "metadata": {},
   "outputs": [],
   "source": [
    "rec_business_popular = business_popular\n",
    "rec_freq = {}\n",
    "for b in rec_business_popular:\n",
    "    rec_freq.setdefault(b, 0)\n",
    "    \n",
    "for uid in list(dataDic.keys()):\n",
    "    #print(uid)\n",
    "    recom_list, _ = recommend(uid, dataDic, business_sim_matrix,k = 20, n = 20)\n",
    "    for rec in recom_list:\n",
    "        rec_freq[rec[0]] += 1"
   ]
  },
  {
   "cell_type": "code",
   "execution_count": 22,
   "id": "manufactured-cliff",
   "metadata": {},
   "outputs": [
    {
     "data": {
      "image/png": "[encoded data removed]",
      "text/plain": [
       "<Figure size 432x288 with 1 Axes>"
      ]
     },
     "metadata": {
      "needs_background": "light"
     },
     "output_type": "display_data"
    }
   ],
   "source": [
    "import matplotlib.pyplot as plt\n",
    "\n",
    "x_popularity = list(rec_business_popular.values())\n",
    "y_recommendation_frequency = list(rec_freq.values())\n",
    "pop_mean = np.mean(x_popularity)\n",
    "rec_mean = np.mean(y_recommendation_frequency)\n",
    "plt.scatter(x_popularity, y_recommendation_frequency,s=5,marker='o')\n",
    "plt.axhline(y = rec_mean, color = \"r\", linestyle = \"-\")\n",
    "plt.axvline(x = pop_mean, color = \"r\", linestyle = \"-\")\n",
    "\n",
    "plt.xlabel('Business Popularity',fontsize=12)  \n",
    "plt.ylabel('Recommendation frequency',fontsize=12)\n",
    "plt.title('Standard CF', fontsize=13)\n",
    "\n",
    "plt.savefig('Standard CF in Mon.png')\n",
    "plt.show()"
   ]
  },
  {
   "cell_type": "markdown",
   "id": "white-mitchell",
   "metadata": {},
   "source": [
    "## Evaluation"
   ]
  },
  {
   "cell_type": "code",
   "execution_count": 23,
   "id": "pending-substitute",
   "metadata": {},
   "outputs": [
    {
     "name": "stdout",
     "output_type": "stream",
     "text": [
      "Total business number = 2890\n",
      "Build user co-rated business matrix ...\n",
      "Build user co-rated businesses matrix success!\n",
      "Calculating businesses similarity matrix ...\n",
      "Calculate businesses similarity matrix success!\n"
     ]
    }
   ],
   "source": [
    "# for training set\n",
    "business_sim_matrix,_ = get_sim(trainSet)"
   ]
  },
  {
   "cell_type": "code",
   "execution_count": 24,
   "id": "occupational-bridges",
   "metadata": {},
   "outputs": [],
   "source": [
    "def predict (aim_user, aim_bid, business_sim_matrix,data, N):\n",
    "    pred = 0\n",
    "    w_sum = 0\n",
    "    count = 0\n",
    "    N = 20\n",
    "\n",
    "    rated_businesses = data[aim_user]\n",
    "    if aim_bid not in business_sim_matrix.keys():\n",
    "        return 0\n",
    "    else:\n",
    "        cand_list = sorted(business_sim_matrix[aim_bid].items(), key=itemgetter(1), reverse=True)\n",
    "\n",
    "    for bid, w in cand_list:\n",
    "        if bid != aim_bid and bid in rated_businesses:\n",
    "            rating = trainSet[aim_user][bid]\n",
    "            pred += w * (rating)\n",
    "            w_sum += w\n",
    "            count += 1\n",
    "            if count == N:\n",
    "                break\n",
    "\n",
    "    # predict\n",
    "    if w_sum == 0:\n",
    "        result = 0\n",
    "    else:\n",
    "        result =  (pred / w_sum)\n",
    "        \n",
    "    return result"
   ]
  },
  {
   "cell_type": "code",
   "execution_count": 25,
   "id": "graduate-deputy",
   "metadata": {},
   "outputs": [
    {
     "name": "stdout",
     "output_type": "stream",
     "text": [
      "The overall RMSE of the test set is  1.470622982841479\n"
     ]
    }
   ],
   "source": [
    "# predicted ratings\n",
    "pred_ratings = []\n",
    "N = 20\n",
    "\n",
    "for index in range(len(test)):\n",
    "    #print(index)\n",
    "    uid = test['userId'][index]\n",
    "    bid = test['businessId'][index]\n",
    "    pred_ratings.append(predict(uid, bid, business_sim_matrix, trainSet, N))\n",
    "\n",
    "MSE = np.mean(pow(test[\"rating\"] - pred_ratings, 2))\n",
    "RMSE = np.sqrt(MSE)\n",
    "print(\"The overall RMSE of the test set is \",RMSE)"
   ]
  },
  {
   "cell_type": "markdown",
   "id": "smoking-kenya",
   "metadata": {},
   "source": [
    "# Bias-CF"
   ]
  },
  {
   "cell_type": "code",
   "execution_count": 26,
   "id": "adolescent-championship",
   "metadata": {},
   "outputs": [
    {
     "name": "stdout",
     "output_type": "stream",
     "text": [
      "Total business number = 2891\n",
      "Build user co-rated business matrix ...\n",
      "Build user co-rated businesses matrix success!\n",
      "Calculating businesses similarity matrix ...\n",
      "Calculate businesses similarity matrix success!\n"
     ]
    }
   ],
   "source": [
    "business_sim_matrix, business_popular = get_sim(dataDic)"
   ]
  },
  {
   "cell_type": "code",
   "execution_count": 27,
   "id": "personal-huntington",
   "metadata": {
    "tags": []
   },
   "outputs": [],
   "source": [
    "# get average\n",
    "avg_rating_overall = 0\n",
    "avg_rating_users = {}\n",
    "avg_rating_items = {}\n",
    "for b in business_popular:\n",
    "    avg_rating_items.setdefault(b, 0)\n",
    "\n",
    "for user, businesses in dataDic.items():\n",
    "    avg_rating_users.setdefault(user, 0)\n",
    "    avg_rating_users[user] = np.mean(list(businesses.values()))\n",
    "    avg_rating_overall += sum(businesses.values())\n",
    "    \n",
    "    for business in businesses:\n",
    "        avg_rating_items[business] += businesses[business]\n",
    "\n",
    "avg_rating_overall = avg_rating_overall/dataDic_len\n",
    "\n",
    "\n",
    "for user in avg_rating_users:\n",
    "    avg_rating_users[user] = avg_rating_overall-avg_rating_users[user]\n",
    "\n",
    "for business in avg_rating_items:\n",
    "    Mean = avg_rating_items[business]/business_popular[business]\n",
    "    avg_rating_items[business] = avg_rating_overall - Mean"
   ]
  },
  {
   "cell_type": "code",
   "execution_count": 28,
   "id": "alien-breeding",
   "metadata": {},
   "outputs": [],
   "source": [
    "def recommend_rerank(aim_user, data, sim_matrix, bg, bu, bi, k=20, n=20):\n",
    "    rank ={}\n",
    "    rated_businesses = data[aim_user]      # 找出目标用户看到电影\n",
    "\n",
    "    w_sum = {}\n",
    "    R = {}\n",
    "    \n",
    "    for business, rating in rated_businesses.items():\n",
    "        #遍历与物品item最相似的前k个产品，获得这些物品及相似分数\n",
    "        if business not in sim_matrix.keys():\n",
    "            continue\n",
    "        for related_business, w in sorted(sim_matrix[business].items(), key=itemgetter(1), reverse=True)[:k]:\n",
    "            # 若该物品用户看过， 跳过\n",
    "            if related_business in rated_businesses:\n",
    "                continue\n",
    "            # 计算用户user对related_business的偏好值， 初始化该值为0\n",
    "            rank.setdefault(related_business, 0)\n",
    "            w_sum.setdefault(related_business, 0)\n",
    "            #通过与其相似物品对物品related_business的偏好值相乘并相加。\n",
    "            #排名的依据—— > 推荐电影与该已看电影的相似度(累计) * 用户对已看电影的评分\n",
    "            rank[related_business] += w * (rating - (bu[aim_user]+bi[business]+bg))\n",
    "            w_sum[related_business] += w\n",
    "    \n",
    "    # 753\n",
    "    for bid in rank.keys():\n",
    "        rank[bid] = (rank[bid] / w_sum[bid]) + (bu[aim_user]+bi[bid]+bg)\n",
    "\n",
    "    # 产生最后的推荐列表\n",
    "    result =  sorted(rank.items(), key=itemgetter(1), reverse=True)[:n]  # itemgetter(1) 是简洁写法\n",
    "    \n",
    "    rank_position = list(range(1,len(result)+1))\n",
    "    \n",
    "    return result, rank_position"
   ]
  },
  {
   "cell_type": "code",
   "execution_count": 45,
   "id": "fatty-rhythm",
   "metadata": {},
   "outputs": [],
   "source": [
    "aim_user = 1202\n",
    "recom_list, rank_posi = recommend_rerank(aim_user, dataDic, business_sim_matrix, avg_rating_overall, avg_rating_users, avg_rating_items,k=20,n=20)"
   ]
  },
  {
   "cell_type": "code",
   "execution_count": 46,
   "id": "impossible-commodity",
   "metadata": {
    "tags": []
   },
   "outputs": [
    {
     "data": {
      "text/plain": [
       "[(4357, 6.487804878048781),\n",
       " (6435, 6.265737874097008),\n",
       " (2805, 5.915470494417863),\n",
       " (5622, 5.824561403508772),\n",
       " (1720, 5.824561403508772),\n",
       " (2566, 5.798920377867747),\n",
       " (5082, 5.784561403508772),\n",
       " (4027, 5.771929824561404),\n",
       " (4938, 5.707894736842106),\n",
       " (1588, 5.699561403508772),\n",
       " (5807, 5.6853208971796585),\n",
       " (4085, 5.66289726533629),\n",
       " (4420, 5.632541720154044),\n",
       " (4365, 5.604848484848485),\n",
       " (1932, 5.602308802308803),\n",
       " (3559, 5.5796634443250985),\n",
       " (1132, 5.570562770562771),\n",
       " (3451, 5.517001132811982),\n",
       " (3886, 5.5070707070707074),\n",
       " (3896, 5.484848484848485)]"
      ]
     },
     "execution_count": 46,
     "metadata": {},
     "output_type": "execute_result"
    }
   ],
   "source": [
    "recom_list"
   ]
  },
  {
   "cell_type": "markdown",
   "id": "individual-copyright",
   "metadata": {},
   "source": [
    "## PRU"
   ]
  },
  {
   "cell_type": "code",
   "execution_count": 47,
   "id": "adjusted-needle",
   "metadata": {},
   "outputs": [
    {
     "data": {
      "text/plain": [
       "-0.1918014426726073"
      ]
     },
     "execution_count": 47,
     "metadata": {},
     "output_type": "execute_result"
    }
   ],
   "source": [
    "-get_SRC(recom_list, rank_posi, business_popular)"
   ]
  },
  {
   "cell_type": "code",
   "execution_count": 53,
   "id": "impossible-turning",
   "metadata": {},
   "outputs": [
    {
     "data": {
      "text/plain": [
       "-0.22013986969702315"
      ]
     },
     "execution_count": 53,
     "metadata": {},
     "output_type": "execute_result"
    }
   ],
   "source": [
    "SRC_list = []\n",
    "SRC = 0\n",
    "pop_list = []\n",
    "for uid in list(dataDic.keys()):\n",
    "    #print(uid)\n",
    "    recom_list, rank_posi = recommend_rerank(uid, dataDic, business_sim_matrix, avg_rating_overall, avg_rating_users, avg_rating_items, k = 20, n = 20)\n",
    "    SRC = get_SRC(recom_list, rank_posi, business_popular)\n",
    "    \n",
    "    if np.isnan(SRC):\n",
    "        continue\n",
    "        \n",
    "    SRC_list.append(SRC)\n",
    "    \n",
    "PRU = -np.mean(SRC_list)\n",
    "PRU"
   ]
  },
  {
   "cell_type": "markdown",
   "id": "bright-hygiene",
   "metadata": {},
   "source": [
    "## PRI"
   ]
  },
  {
   "cell_type": "code",
   "execution_count": 54,
   "id": "african-fabric",
   "metadata": {},
   "outputs": [
    {
     "data": {
      "text/plain": [
       "-0.06841109623921225"
      ]
     },
     "execution_count": 54,
     "metadata": {},
     "output_type": "execute_result"
    }
   ],
   "source": [
    "ave_rank = {}\n",
    "rank_count = {}\n",
    "pop = {}\n",
    "for uid in list(dataDic.keys()):\n",
    "    recom_list, rank_posi = recommend_rerank(uid, dataDic, business_sim_matrix, avg_rating_overall, avg_rating_users, avg_rating_items, k = 20, n = 20)\n",
    "    for index in range(len(recom_list)):\n",
    "        bid = recom_list[index][0]\n",
    "        ave_rank.setdefault(bid,0)\n",
    "        rank_count.setdefault(bid,0)\n",
    "        ave_rank[bid] += rank_posi[index]\n",
    "        rank_count[bid] += 1\n",
    "\n",
    "for business in ave_rank:\n",
    "    ave_rank[business] = ave_rank[business]/rank_count[business]\n",
    "    pop.setdefault(business,0)\n",
    "    pop[business] = business_popular[business]\n",
    "\n",
    "\n",
    "SRC,_ = stats.spearmanr(list(ave_rank.values()), list(pop.values()))\n",
    "PRI = -SRC\n",
    "PRI"
   ]
  },
  {
   "cell_type": "markdown",
   "id": "surface-shower",
   "metadata": {},
   "source": [
    "## Plot frequency"
   ]
  },
  {
   "cell_type": "code",
   "execution_count": 29,
   "id": "hydraulic-marshall",
   "metadata": {},
   "outputs": [],
   "source": [
    "rec_business_popular1 = business_popular\n",
    "rec_freq1 = {}\n",
    "for b in rec_business_popular1:\n",
    "    rec_freq1.setdefault(b, 0)\n",
    "    \n",
    "for uid in list(dataDic.keys()):\n",
    "    #print(uid)\n",
    "    recom_list, _ = recommend_rerank(uid, dataDic, business_sim_matrix, avg_rating_overall, avg_rating_users, avg_rating_items,k=20,n=20)\n",
    "    for rec in recom_list:\n",
    "        rec_freq1[rec[0]] += 1"
   ]
  },
  {
   "cell_type": "code",
   "execution_count": 30,
   "id": "desperate-hydrogen",
   "metadata": {},
   "outputs": [
    {
     "data": {
      "image/png": "[encoded data removed]",
      "text/plain": [
       "<Figure size 432x288 with 1 Axes>"
      ]
     },
     "metadata": {
      "needs_background": "light"
     },
     "output_type": "display_data"
    }
   ],
   "source": [
    "import matplotlib.pyplot as plt\n",
    "\n",
    "# after\n",
    "x_popularity = list(rec_business_popular1.values())\n",
    "y_recommendation_frequency = list(rec_freq1.values())\n",
    "pop_mean = np.mean(x_popularity)\n",
    "rec_mean = np.mean(y_recommendation_frequency)\n",
    "plt.scatter(x_popularity, y_recommendation_frequency,s=3,marker='o', color = 'red',label = \"Biased\")\n",
    "plt.axhline(y = rec_mean, color = \"r\", linestyle = \"-\",linewidth=0.5)\n",
    "plt.axvline(x = pop_mean, color = \"r\", linestyle = \"-\", linewidth=0.5)\n",
    "\n",
    "# before\n",
    "x_popularity = list(rec_business_popular.values())\n",
    "y_recommendation_frequency = list(rec_freq.values())\n",
    "pop_mean = np.mean(x_popularity)\n",
    "rec_mean = np.mean(y_recommendation_frequency)\n",
    "plt.scatter(x_popularity, y_recommendation_frequency,s=3,marker='o', color = 'blue',label = \"Standard\")\n",
    "plt.axhline(y = rec_mean, color = \"b\", linestyle = \"-\", linewidth=0.5)\n",
    "plt.axvline(x = pop_mean, color = \"b\", linestyle = \"-\", linewidth=0.5)\n",
    "\n",
    "plt.legend(loc=\"best\")\n",
    "plt.xlabel('Business Popularity',fontsize=12)  \n",
    "plt.ylabel('Recommendation frequency',fontsize=12)\n",
    "plt.title('Biased ItemCF vs Standard ItemCF', fontsize=13)\n",
    "\n",
    "plt.savefig('Bias CF in Mon.png')\n",
    "plt.show()"
   ]
  },
  {
   "cell_type": "markdown",
   "id": "frequent-christian",
   "metadata": {},
   "source": [
    "### Evaluation"
   ]
  },
  {
   "cell_type": "code",
   "execution_count": 56,
   "id": "vanilla-disaster",
   "metadata": {},
   "outputs": [
    {
     "name": "stdout",
     "output_type": "stream",
     "text": [
      "Total business number = 2890\n",
      "Build user co-rated business matrix ...\n",
      "Build user co-rated businesses matrix success!\n",
      "Calculating businesses similarity matrix ...\n",
      "Calculate businesses similarity matrix success!\n"
     ]
    }
   ],
   "source": [
    "# for training set\n",
    "business_sim_matrix,_ = get_sim(trainSet)"
   ]
  },
  {
   "cell_type": "code",
   "execution_count": 58,
   "id": "determined-alfred",
   "metadata": {},
   "outputs": [],
   "source": [
    "def predict_bias (aim_user, aim_bid, business_sim_matrix,data, bg,bu, bi, N):\n",
    "    pred = 0\n",
    "    w_sum = 0\n",
    "    count = 0\n",
    "    N = 20\n",
    "\n",
    "    rated_businesses = data[aim_user]\n",
    "    if aim_bid not in business_sim_matrix.keys():\n",
    "        return 0\n",
    "    else:\n",
    "        cand_list = sorted(business_sim_matrix[aim_bid].items(), key=itemgetter(1), reverse=True)\n",
    "\n",
    "    for bid, w in cand_list:\n",
    "        if bid != aim_bid and bid in rated_businesses:\n",
    "            rating = trainSet[aim_user][bid]\n",
    "            pred += w * (rating - (bu[aim_user]+bi[bid]+bg))\n",
    "            w_sum += w\n",
    "            count += 1\n",
    "            if count == N:\n",
    "                break\n",
    "\n",
    "    # predict\n",
    "    if w_sum == 0:\n",
    "        result = 0\n",
    "    else:\n",
    "        result =  (pred / w_sum) + (bu[aim_user]+bi[aim_bid]+bg)\n",
    "        \n",
    "    return result"
   ]
  },
  {
   "cell_type": "code",
   "execution_count": 59,
   "id": "unknown-library",
   "metadata": {},
   "outputs": [
    {
     "name": "stdout",
     "output_type": "stream",
     "text": [
      "The overall RMSE of the test set is  1.673395629088264\n"
     ]
    }
   ],
   "source": [
    "# predicted ratings\n",
    "pred_ratings = []\n",
    "N = 20\n",
    "\n",
    "for index in range(len(test)):\n",
    "    #print(index)\n",
    "    uid = test['userId'][index]\n",
    "    bid = test['businessId'][index]\n",
    "    pred_ratings.append(predict_bias(uid, bid, business_sim_matrix, trainSet, avg_rating_overall, avg_rating_users, avg_rating_items,N))\n",
    "\n",
    "MSE = np.mean(pow(test[\"rating\"] - pred_ratings, 2))\n",
    "RMSE = np.sqrt(MSE)\n",
    "print(\"The overall RMSE of the test set is \",RMSE)"
   ]
  }
 ],
 "metadata": {
  "kernelspec": {
   "display_name": "Python 3",
   "language": "python",
   "name": "python3"
  },
  "language_info": {
   "codemirror_mode": {
    "name": "ipython",
    "version": 3
   },
   "file_extension": ".py",
   "mimetype": "text/x-python",
   "name": "python",
   "nbconvert_exporter": "python",
   "pygments_lexer": "ipython3",
   "version": "3.9.2"
  }
 },
 "nbformat": 4,
 "nbformat_minor": 5
}
