{
 "cells": [
  {
   "cell_type": "markdown",
   "metadata": {},
   "source": [
    "## Description：\n",
    "This notebook tries to implement the ItemCF method we tried to improve. The data set used is the Montréal data set in the Yelp data set, and the reviews part of the data set is mainly used because it contains the user's rating of the business. The code is mainly divided into the following steps：\n",
    "1. Import the yelp data set, filter the data set and divide it into training set and test set.\n",
    "2. Make 5 recommendations by using training set, and each recommendation generates a recommendation list for the first 200 users in the training set.\n",
    "3. During the recommendation process, if the popularity of the business is greater than the threshold (here the threshold is 0.6), the business will be punished.\n",
    "4. Calculate the PRU.\n",
    "\n",
    "**We should have found the optimal threshold through cross-validation, but we didn't have time to do it before the presentation 3 deadline.**"
   ]
  },
  {
   "cell_type": "code",
   "execution_count": 97,
   "metadata": {
    "ExecuteTime": {
     "end_time": "2020-08-21T02:51:36.893798Z",
     "start_time": "2020-08-21T02:51:36.384451Z"
    }
   },
   "outputs": [],
   "source": [
    "import os\n",
    "import time\n",
    "\n",
    "# For reading JSON files\n",
    "import json\n",
    "\n",
    "from operator import itemgetter\n",
    "\n",
    "# data science imports\n",
    "import math\n",
    "import numpy as np\n",
    "import pandas as pd\n",
    "from scipy.sparse import csr_matrix\n",
    "from sklearn.neighbors import NearestNeighbors\n",
    "from sklearn.model_selection import train_test_split\n",
    "\n",
    "# utils import\n",
    "from fuzzywuzzy import fuzz\n",
    "\n",
    "# visualization imports\n",
    "import seaborn as sns\n",
    "import matplotlib.pyplot as plt\n",
    "import matplotlib.colors as colors\n",
    "\n",
    "# For random sampling\n",
    "import random\n",
    "\n",
    "# Calculate the similarity matrix by using sparse matrix\n",
    "import scipy.sparse as sp\n",
    "\n",
    "# For data Spliting\n",
    "from sklearn.model_selection import train_test_split\n",
    "\n",
    "# Compute SRC\n",
    "from scipy import stats"
   ]
  },
  {
   "cell_type": "markdown",
   "metadata": {},
   "source": [
    "## Load Json data:"
   ]
  },
  {
   "cell_type": "code",
   "execution_count": 3,
   "metadata": {},
   "outputs": [],
   "source": [
    "def read_josn (path):\n",
    "    file = open(path, \"r\", encoding = 'utf-8')\n",
    "    df = []\n",
    "    for line in file.readlines():\n",
    "        dic = json.loads(line)\n",
    "        df.append(dic)\n",
    "    return df"
   ]
  },
  {
   "cell_type": "code",
   "execution_count": 163,
   "metadata": {
    "ExecuteTime": {
     "end_time": "2020-08-21T02:51:38.853082Z",
     "start_time": "2020-08-21T02:51:38.799808Z"
    }
   },
   "outputs": [],
   "source": [
    "# load business data\n",
    "path = \"data/Charlotte_Data/Charlotte_business.json\"\n",
    "business_list = read_josn(path)\n",
    "# load reviews data\n",
    "path = \"data/Charlotte_Data/Charlotte_Review.json\"\n",
    "review_list = read_josn(path)\n",
    "# load user data\n",
    "path = \"data/Charlotte_Data/Charlotte_User.json\"\n",
    "user_list = read_josn(path)"
   ]
  },
  {
   "cell_type": "markdown",
   "metadata": {},
   "source": [
    "## Transform to dataframe:"
   ]
  },
  {
   "cell_type": "code",
   "execution_count": 164,
   "metadata": {},
   "outputs": [
    {
     "data": {
      "text/html": [
       "<div>\n",
       "<style scoped>\n",
       "    .dataframe tbody tr th:only-of-type {\n",
       "        vertical-align: middle;\n",
       "    }\n",
       "\n",
       "    .dataframe tbody tr th {\n",
       "        vertical-align: top;\n",
       "    }\n",
       "\n",
       "    .dataframe thead th {\n",
       "        text-align: right;\n",
       "    }\n",
       "</style>\n",
       "<table border=\"1\" class=\"dataframe\">\n",
       "  <thead>\n",
       "    <tr style=\"text-align: right;\">\n",
       "      <th></th>\n",
       "      <th>RawBusinessId</th>\n",
       "      <th>businessId</th>\n",
       "      <th>title</th>\n",
       "    </tr>\n",
       "  </thead>\n",
       "  <tbody>\n",
       "    <tr>\n",
       "      <th>0</th>\n",
       "      <td>gnKjwL_1w79qoiV3IC_xQQ</td>\n",
       "      <td>1</td>\n",
       "      <td>Musashi Japanese Restaurant</td>\n",
       "    </tr>\n",
       "    <tr>\n",
       "      <th>1</th>\n",
       "      <td>HhyxOkGAM07SRYtlQ4wMFQ</td>\n",
       "      <td>2</td>\n",
       "      <td>Queen City Plumbing</td>\n",
       "    </tr>\n",
       "    <tr>\n",
       "      <th>2</th>\n",
       "      <td>irft4YkdNsww4DNf_Aftew</td>\n",
       "      <td>3</td>\n",
       "      <td>So Cool Frozen Yogurt</td>\n",
       "    </tr>\n",
       "    <tr>\n",
       "      <th>3</th>\n",
       "      <td>BvYU3jvGd0TJ7IyZdfiN2Q</td>\n",
       "      <td>4</td>\n",
       "      <td>Manzetti's Tavern</td>\n",
       "    </tr>\n",
       "    <tr>\n",
       "      <th>4</th>\n",
       "      <td>Qnz3ywR7BosTr8qDk6G-Pw</td>\n",
       "      <td>5</td>\n",
       "      <td>Mattress Firm Final Markdown</td>\n",
       "    </tr>\n",
       "  </tbody>\n",
       "</table>\n",
       "</div>"
      ],
      "text/plain": [
       "            RawBusinessId  businessId                         title\n",
       "0  gnKjwL_1w79qoiV3IC_xQQ           1   Musashi Japanese Restaurant\n",
       "1  HhyxOkGAM07SRYtlQ4wMFQ           2           Queen City Plumbing\n",
       "2  irft4YkdNsww4DNf_Aftew           3         So Cool Frozen Yogurt\n",
       "3  BvYU3jvGd0TJ7IyZdfiN2Q           4             Manzetti's Tavern\n",
       "4  Qnz3ywR7BosTr8qDk6G-Pw           5  Mattress Firm Final Markdown"
      ]
     },
     "execution_count": 164,
     "metadata": {},
     "output_type": "execute_result"
    }
   ],
   "source": [
    "# business list into dataframe\n",
    "df_business = pd.DataFrame()\n",
    "business_id = []\n",
    "name = []\n",
    "for element in business_list:\n",
    "    business_id.append(element[\"business_id\"])\n",
    "    name.append(element[\"name\"])\n",
    "\n",
    "Business_Num_Id = {}\n",
    "U = 1\n",
    "B = 1\n",
    "Business_Id = []\n",
    "for index in range(len(business_id)):\n",
    "    if business_id[index] not in Business_Num_Id.keys():\n",
    "        Business_Num_Id[business_id[index]] = B\n",
    "        B = B + 1\n",
    "    Business_Id.append(Business_Num_Id[business_id[index]])\n",
    "    \n",
    "\n",
    "df_business[\"RawBusinessId\"] = business_id\n",
    "df_business[\"businessId\"] = Business_Id\n",
    "df_business[\"title\"] = name\n",
    "\n",
    "df_business.head()"
   ]
  },
  {
   "cell_type": "code",
   "execution_count": 165,
   "metadata": {},
   "outputs": [
    {
     "data": {
      "text/html": [
       "<div>\n",
       "<style scoped>\n",
       "    .dataframe tbody tr th:only-of-type {\n",
       "        vertical-align: middle;\n",
       "    }\n",
       "\n",
       "    .dataframe tbody tr th {\n",
       "        vertical-align: top;\n",
       "    }\n",
       "\n",
       "    .dataframe thead th {\n",
       "        text-align: right;\n",
       "    }\n",
       "</style>\n",
       "<table border=\"1\" class=\"dataframe\">\n",
       "  <thead>\n",
       "    <tr style=\"text-align: right;\">\n",
       "      <th></th>\n",
       "      <th>RawUserId</th>\n",
       "      <th>UserId</th>\n",
       "      <th>name</th>\n",
       "    </tr>\n",
       "  </thead>\n",
       "  <tbody>\n",
       "    <tr>\n",
       "      <th>0</th>\n",
       "      <td>Ps_zkoSnuv2Gy-QIt0jEJg</td>\n",
       "      <td>1</td>\n",
       "      <td>Lea</td>\n",
       "    </tr>\n",
       "    <tr>\n",
       "      <th>1</th>\n",
       "      <td>djQLJTLA4Tx7TpzYCKIqJQ</td>\n",
       "      <td>2</td>\n",
       "      <td>Kris</td>\n",
       "    </tr>\n",
       "    <tr>\n",
       "      <th>2</th>\n",
       "      <td>eSlOI3GhroEtcbaD_nFXJQ</td>\n",
       "      <td>3</td>\n",
       "      <td>Jason</td>\n",
       "    </tr>\n",
       "    <tr>\n",
       "      <th>3</th>\n",
       "      <td>NmC_ZemjAQ6TvzgeaAuTmA</td>\n",
       "      <td>4</td>\n",
       "      <td>Lindsay</td>\n",
       "    </tr>\n",
       "    <tr>\n",
       "      <th>4</th>\n",
       "      <td>gTAMqkDSj8z84XN8YvsSJg</td>\n",
       "      <td>5</td>\n",
       "      <td>Morgan</td>\n",
       "    </tr>\n",
       "  </tbody>\n",
       "</table>\n",
       "</div>"
      ],
      "text/plain": [
       "                RawUserId  UserId     name\n",
       "0  Ps_zkoSnuv2Gy-QIt0jEJg       1      Lea\n",
       "1  djQLJTLA4Tx7TpzYCKIqJQ       2     Kris\n",
       "2  eSlOI3GhroEtcbaD_nFXJQ       3    Jason\n",
       "3  NmC_ZemjAQ6TvzgeaAuTmA       4  Lindsay\n",
       "4  gTAMqkDSj8z84XN8YvsSJg       5   Morgan"
      ]
     },
     "execution_count": 165,
     "metadata": {},
     "output_type": "execute_result"
    }
   ],
   "source": [
    "# User list into dataframe\n",
    "df_user = pd.DataFrame()\n",
    "user_id = []\n",
    "name = []\n",
    "for element in user_list:\n",
    "    user_id.append(element[\"user_id\"])\n",
    "    name.append(element[\"name\"])\n",
    "\n",
    "User_Num_Id = {}\n",
    "U = 1\n",
    "User_Id = []\n",
    "for index in range(len(user_id)):\n",
    "    if user_id[index] not in User_Num_Id.keys():\n",
    "        User_Num_Id[user_id[index]] = U\n",
    "        U = U + 1\n",
    "    User_Id.append(User_Num_Id[user_id[index]])\n",
    "    \n",
    "df_user[\"RawUserId\"] = user_id\n",
    "df_user[\"UserId\"] = User_Id\n",
    "df_user[\"name\"] = name\n",
    "\n",
    "df_user.head()"
   ]
  },
  {
   "cell_type": "code",
   "execution_count": 166,
   "metadata": {},
   "outputs": [
    {
     "data": {
      "text/html": [
       "<div>\n",
       "<style scoped>\n",
       "    .dataframe tbody tr th:only-of-type {\n",
       "        vertical-align: middle;\n",
       "    }\n",
       "\n",
       "    .dataframe tbody tr th {\n",
       "        vertical-align: top;\n",
       "    }\n",
       "\n",
       "    .dataframe thead th {\n",
       "        text-align: right;\n",
       "    }\n",
       "</style>\n",
       "<table border=\"1\" class=\"dataframe\">\n",
       "  <thead>\n",
       "    <tr style=\"text-align: right;\">\n",
       "      <th></th>\n",
       "      <th>userId</th>\n",
       "      <th>businessId</th>\n",
       "      <th>rating</th>\n",
       "    </tr>\n",
       "  </thead>\n",
       "  <tbody>\n",
       "    <tr>\n",
       "      <th>0</th>\n",
       "      <td>5282</td>\n",
       "      <td>166</td>\n",
       "      <td>5.0</td>\n",
       "    </tr>\n",
       "    <tr>\n",
       "      <th>1</th>\n",
       "      <td>9782</td>\n",
       "      <td>521</td>\n",
       "      <td>1.0</td>\n",
       "    </tr>\n",
       "    <tr>\n",
       "      <th>2</th>\n",
       "      <td>5280</td>\n",
       "      <td>166</td>\n",
       "      <td>5.0</td>\n",
       "    </tr>\n",
       "    <tr>\n",
       "      <th>3</th>\n",
       "      <td>1934</td>\n",
       "      <td>245</td>\n",
       "      <td>4.0</td>\n",
       "    </tr>\n",
       "    <tr>\n",
       "      <th>4</th>\n",
       "      <td>4678</td>\n",
       "      <td>36</td>\n",
       "      <td>5.0</td>\n",
       "    </tr>\n",
       "  </tbody>\n",
       "</table>\n",
       "</div>"
      ],
      "text/plain": [
       "   userId  businessId  rating\n",
       "0    5282         166     5.0\n",
       "1    9782         521     1.0\n",
       "2    5280         166     5.0\n",
       "3    1934         245     4.0\n",
       "4    4678          36     5.0"
      ]
     },
     "execution_count": 166,
     "metadata": {},
     "output_type": "execute_result"
    }
   ],
   "source": [
    "# review list into dataframe\n",
    "df_ratings = pd.DataFrame()\n",
    "#review_id = []\n",
    "user_id = []\n",
    "business_id = []\n",
    "ratings = []\n",
    "for element in review_list:\n",
    "    uid = User_Num_Id[element[\"user_id\"]]\n",
    "    bid = Business_Num_Id[element[\"business_id\"]]\n",
    "    \n",
    "    user_id.append(uid)\n",
    "    business_id.append(bid)\n",
    "    ratings.append(element[\"stars\"])\n",
    "\n",
    "#df_ratings[\"review_id\"] = review_id\n",
    "df_ratings[\"userId\"] = user_id\n",
    "df_ratings[\"businessId\"] = business_id\n",
    "df_ratings[\"rating\"] = ratings\n",
    "\n",
    "df_ratings.head()"
   ]
  },
  {
   "cell_type": "markdown",
   "metadata": {},
   "source": [
    "## Filter data:\n",
    "### For business:"
   ]
  },
  {
   "cell_type": "code",
   "execution_count": 167,
   "metadata": {},
   "outputs": [
    {
     "data": {
      "text/html": [
       "<div>\n",
       "<style scoped>\n",
       "    .dataframe tbody tr th:only-of-type {\n",
       "        vertical-align: middle;\n",
       "    }\n",
       "\n",
       "    .dataframe tbody tr th {\n",
       "        vertical-align: top;\n",
       "    }\n",
       "\n",
       "    .dataframe thead th {\n",
       "        text-align: right;\n",
       "    }\n",
       "</style>\n",
       "<table border=\"1\" class=\"dataframe\">\n",
       "  <thead>\n",
       "    <tr style=\"text-align: right;\">\n",
       "      <th></th>\n",
       "      <th>count</th>\n",
       "    </tr>\n",
       "    <tr>\n",
       "      <th>businessId</th>\n",
       "      <th></th>\n",
       "    </tr>\n",
       "  </thead>\n",
       "  <tbody>\n",
       "    <tr>\n",
       "      <th>1</th>\n",
       "      <td>178</td>\n",
       "    </tr>\n",
       "    <tr>\n",
       "      <th>2</th>\n",
       "      <td>4</td>\n",
       "    </tr>\n",
       "    <tr>\n",
       "      <th>3</th>\n",
       "      <td>6</td>\n",
       "    </tr>\n",
       "    <tr>\n",
       "      <th>4</th>\n",
       "      <td>18</td>\n",
       "    </tr>\n",
       "    <tr>\n",
       "      <th>5</th>\n",
       "      <td>4</td>\n",
       "    </tr>\n",
       "  </tbody>\n",
       "</table>\n",
       "</div>"
      ],
      "text/plain": [
       "            count\n",
       "businessId       \n",
       "1             178\n",
       "2               4\n",
       "3               6\n",
       "4              18\n",
       "5               4"
      ]
     },
     "execution_count": 167,
     "metadata": {},
     "output_type": "execute_result"
    }
   ],
   "source": [
    "# get rating frequency\n",
    "df_business_cnt = pd.DataFrame(df_ratings.groupby('businessId').size(), columns=['count'])\n",
    "df_business_cnt.head()"
   ]
  },
  {
   "cell_type": "code",
   "execution_count": 168,
   "metadata": {},
   "outputs": [
    {
     "data": {
      "text/plain": [
       "1.00    1895.0\n",
       "0.95     139.0\n",
       "0.90      77.0\n",
       "0.85      50.0\n",
       "0.80      36.0\n",
       "0.75      27.0\n",
       "0.70      21.0\n",
       "0.65      17.0\n",
       "Name: count, dtype: float64"
      ]
     },
     "execution_count": 168,
     "metadata": {},
     "output_type": "execute_result"
    }
   ],
   "source": [
    "# top quantiles of rating counts\n",
    "df_business_cnt['count'].quantile(np.arange(1, 0.6, -0.05))"
   ]
  },
  {
   "cell_type": "code",
   "execution_count": 169,
   "metadata": {},
   "outputs": [
    {
     "name": "stdout",
     "output_type": "stream",
     "text": [
      "shape of original ratings data:  (309425, 3)\n",
      "shape of ratings data after dropping unpopular business:  (285809, 3)\n"
     ]
    }
   ],
   "source": [
    "# filter data - movies count less than 20\n",
    "popularity_thres = 10\n",
    "popular_business = list(set(df_business_cnt.query('count >= @popularity_thres').index))\n",
    "df_ratings_drop_business = df_ratings[df_ratings.businessId.isin(popular_business)]\n",
    "print('shape of original ratings data: ', df_ratings.shape)\n",
    "print('shape of ratings data after dropping unpopular business: ', df_ratings_drop_business.shape)"
   ]
  },
  {
   "cell_type": "markdown",
   "metadata": {},
   "source": [
    "### For users:"
   ]
  },
  {
   "cell_type": "code",
   "execution_count": 170,
   "metadata": {},
   "outputs": [
    {
     "data": {
      "text/html": [
       "<div>\n",
       "<style scoped>\n",
       "    .dataframe tbody tr th:only-of-type {\n",
       "        vertical-align: middle;\n",
       "    }\n",
       "\n",
       "    .dataframe tbody tr th {\n",
       "        vertical-align: top;\n",
       "    }\n",
       "\n",
       "    .dataframe thead th {\n",
       "        text-align: right;\n",
       "    }\n",
       "</style>\n",
       "<table border=\"1\" class=\"dataframe\">\n",
       "  <thead>\n",
       "    <tr style=\"text-align: right;\">\n",
       "      <th></th>\n",
       "      <th>count</th>\n",
       "    </tr>\n",
       "    <tr>\n",
       "      <th>userId</th>\n",
       "      <th></th>\n",
       "    </tr>\n",
       "  </thead>\n",
       "  <tbody>\n",
       "    <tr>\n",
       "      <th>1</th>\n",
       "      <td>3</td>\n",
       "    </tr>\n",
       "    <tr>\n",
       "      <th>2</th>\n",
       "      <td>11</td>\n",
       "    </tr>\n",
       "    <tr>\n",
       "      <th>3</th>\n",
       "      <td>11</td>\n",
       "    </tr>\n",
       "    <tr>\n",
       "      <th>4</th>\n",
       "      <td>62</td>\n",
       "    </tr>\n",
       "    <tr>\n",
       "      <th>5</th>\n",
       "      <td>3</td>\n",
       "    </tr>\n",
       "  </tbody>\n",
       "</table>\n",
       "</div>"
      ],
      "text/plain": [
       "        count\n",
       "userId       \n",
       "1           3\n",
       "2          11\n",
       "3          11\n",
       "4          62\n",
       "5           3"
      ]
     },
     "execution_count": 170,
     "metadata": {},
     "output_type": "execute_result"
    }
   ],
   "source": [
    "# get number of ratings given by every user\n",
    "df_users_cnt = pd.DataFrame(df_ratings_drop_business.groupby('userId').size(), columns=['count'])\n",
    "df_users_cnt.head()"
   ]
  },
  {
   "cell_type": "code",
   "execution_count": 171,
   "metadata": {},
   "outputs": [
    {
     "data": {
      "text/plain": [
       "1.00    799.0\n",
       "0.95      9.0\n",
       "0.90      5.0\n",
       "0.85      4.0\n",
       "0.80      3.0\n",
       "0.75      2.0\n",
       "0.70      2.0\n",
       "0.65      2.0\n",
       "0.60      1.0\n",
       "0.55      1.0\n",
       "Name: count, dtype: float64"
      ]
     },
     "execution_count": 171,
     "metadata": {},
     "output_type": "execute_result"
    }
   ],
   "source": [
    "df_users_cnt['count'].quantile(np.arange(1, 0.5, -0.05))"
   ]
  },
  {
   "cell_type": "code",
   "execution_count": 172,
   "metadata": {},
   "outputs": [
    {
     "name": "stdout",
     "output_type": "stream",
     "text": [
      "shape of original ratings data:  (309425, 3)\n",
      "shape of ratings data after dropping both unpopular business and inactive users:  (231296, 3)\n"
     ]
    }
   ],
   "source": [
    "# filter data\n",
    "ratings_thres = 2\n",
    "active_users = list(set(df_users_cnt.query('count >= @ratings_thres').index))\n",
    "df_ratings_drop_users = df_ratings_drop_business[df_ratings_drop_business.userId.isin(active_users)]\n",
    "print('shape of original ratings data: ', df_ratings.shape)\n",
    "print('shape of ratings data after dropping both unpopular business and inactive users: ', df_ratings_drop_users.shape)"
   ]
  },
  {
   "cell_type": "code",
   "execution_count": 173,
   "metadata": {},
   "outputs": [],
   "source": [
    "df_ratings_drop_users.index = list(range(0, df_ratings_drop_users.shape[0]))\n",
    "df_ratings_drop_users = df_ratings_drop_users.drop_duplicates(keep='last', subset=['userId','businessId'])"
   ]
  },
  {
   "cell_type": "markdown",
   "metadata": {},
   "source": [
    "## Split data into training set and test set:"
   ]
  },
  {
   "cell_type": "code",
   "execution_count": 175,
   "metadata": {},
   "outputs": [
    {
     "name": "stdout",
     "output_type": "stream",
     "text": [
      "        userId  businessId  rating\n",
      "0         2596         830     4.0\n",
      "1        38371        1493     5.0\n",
      "2        15845        5934     5.0\n",
      "3        43901        3444     4.0\n",
      "4        35146        7098     3.0\n",
      "...        ...         ...     ...\n",
      "177430   28238        7247     5.0\n",
      "177431   30452        4852     4.0\n",
      "177432   71989        7588     5.0\n",
      "177433    4845        1407     1.0\n",
      "177434   58014        7949     3.0\n",
      "\n",
      "[177435 rows x 3 columns]\n"
     ]
    }
   ],
   "source": [
    "training,test = train_test_split(df_ratings_drop_users, test_size=0.2, random_state=0)\n",
    "training.index = list(range(0, training.shape[0]))\n",
    "training\n",
    "print(training)"
   ]
  },
  {
   "cell_type": "code",
   "execution_count": 176,
   "metadata": {},
   "outputs": [
    {
     "name": "stdout",
     "output_type": "stream",
     "text": [
      "       userId  businessId  rating\n",
      "0       27340        5468     5.0\n",
      "1        4544        6224     3.0\n",
      "2       20966         372     1.0\n",
      "3       14194        7448     4.0\n",
      "4       16673         329     5.0\n",
      "...       ...         ...     ...\n",
      "44354   57748        9415     5.0\n",
      "44355   42697        3371     5.0\n",
      "44356     528        8350     4.0\n",
      "44357    5397        2534     4.0\n",
      "44358    1275        3444     5.0\n",
      "\n",
      "[44359 rows x 3 columns]\n"
     ]
    }
   ],
   "source": [
    "test.index = list(range(0, test.shape[0]))\n",
    "print(test)"
   ]
  },
  {
   "cell_type": "markdown",
   "metadata": {},
   "source": [
    "## Compute the user similarity matrix:"
   ]
  },
  {
   "cell_type": "code",
   "execution_count": 177,
   "metadata": {},
   "outputs": [],
   "source": [
    "row_i = np.array(training['userId'])\n",
    "col_i = np.array(training['businessId'])\n",
    "train_m = sp.csr_matrix((np.array(training['rating']), (row_i, col_i)), shape = (max(row_i) + 1, max(col_i) + 1))"
   ]
  },
  {
   "cell_type": "code",
   "execution_count": 178,
   "metadata": {},
   "outputs": [
    {
     "name": "stderr",
     "output_type": "stream",
     "text": [
      "<ipython-input-178-55895f9cd08d>:2: RuntimeWarning: divide by zero encountered in true_divide\n",
      "  diag = np.sqrt(1 / train_multiplied.diagonal())\n"
     ]
    }
   ],
   "source": [
    "train_multiplied = train_m.dot(train_m.T)\n",
    "diag = np.sqrt(1 / train_multiplied.diagonal())\n",
    "diag[np.isnan(diag)] = 0\n",
    "diag[np.isinf(diag)] = 0\n",
    "diag = sp.csr_matrix(diag)\n",
    "similarity_m = train_multiplied.multiply(diag)\n",
    "similarity_m = (similarity_m.T).multiply(diag)"
   ]
  },
  {
   "cell_type": "markdown",
   "metadata": {},
   "source": [
    "## Compute the RMSEs for both the training set and test set by using the original method:"
   ]
  },
  {
   "cell_type": "code",
   "execution_count": 179,
   "metadata": {},
   "outputs": [],
   "source": [
    "def get_pred(rt_df, similarity_m, top_k):\n",
    "    # For each business in test set, find users who have rated it.\n",
    "    u_buy = {}\n",
    "    for b in list(rt_df['businessId']):\n",
    "        u_buy[b] = list(rt_df[rt_df['businessId'] == b]['userId'])\n",
    "        \n",
    "    # Calculate the predictive ratings for the given rating dataframe rt_df.\n",
    "    predict = []\n",
    "    for i in rt_df.index:\n",
    "        ui = rt_df['userId'][i]\n",
    "        bi = rt_df['businessId'][i]\n",
    "        numerator = 0\n",
    "        denominator = 0\n",
    "        top_k_i = list((np.array(similarity_m[ui, u_buy[bi]].todense()).flatten()).argsort()[::-1][0:top_k]) # Use the k users who rated the business b and are most similar to user u_i to predict the ratings.\n",
    "        if ui in [u_buy[bi][j] for j in top_k_i]:\n",
    "            # If u_i is in the k users who rated the business b and are most similar to user u_i to predict the ratings,\n",
    "            # we should delete from the candidate users since we don't want to use u_i's information to predict u_i's rating. \n",
    "            top_k_i = list((np.array(similarity_m[ui, u_buy[bi]].todense()).flatten()).argsort()[::-1][1:top_k+1])\n",
    "        for u in [u_buy[bi][j] for j in top_k_i]:\n",
    "            numerator += similarity_m[ui, u] * float(rt_df[(rt_df['userId'] == u) & (rt_df['businessId'] == bi)]['rating'])\n",
    "            denominator += similarity_m[ui, u]\n",
    "        if denominator == 0:\n",
    "            predict.append(0)\n",
    "        else:\n",
    "            predict.append(numerator/denominator)\n",
    "    pred_df = pd.DataFrame()\n",
    "    pred_df['userId'] = list(rt_df['userId'])\n",
    "    pred_df['businessId'] = list(rt_df['businessId'])\n",
    "    pred_df['prediction'] = predict\n",
    "    pred_df.index = rt_df.index\n",
    "    return pred_df "
   ]
  },
  {
   "cell_type": "code",
   "execution_count": 180,
   "metadata": {},
   "outputs": [
    {
     "ename": "KeyboardInterrupt",
     "evalue": "",
     "output_type": "error",
     "traceback": [
      "\u001b[1;31m---------------------------------------------------------------------------\u001b[0m",
      "\u001b[1;31mKeyboardInterrupt\u001b[0m                         Traceback (most recent call last)",
      "\u001b[1;32m<ipython-input-180-50a53e55d549>\u001b[0m in \u001b[0;36m<module>\u001b[1;34m\u001b[0m\n\u001b[1;32m----> 1\u001b[1;33m \u001b[0mpred_train_df\u001b[0m \u001b[1;33m=\u001b[0m \u001b[0mget_pred\u001b[0m\u001b[1;33m(\u001b[0m\u001b[0mtraining\u001b[0m\u001b[1;33m,\u001b[0m \u001b[0msimilarity_m\u001b[0m\u001b[1;33m,\u001b[0m \u001b[1;36m20\u001b[0m\u001b[1;33m)\u001b[0m\u001b[1;33m\u001b[0m\u001b[1;33m\u001b[0m\u001b[0m\n\u001b[0m\u001b[0;32m      2\u001b[0m \u001b[0mpred_train_df\u001b[0m\u001b[1;33m\u001b[0m\u001b[1;33m\u001b[0m\u001b[0m\n",
      "\u001b[1;32m<ipython-input-179-701df3a687ae>\u001b[0m in \u001b[0;36mget_pred\u001b[1;34m(rt_df, similarity_m, top_k)\u001b[0m\n\u001b[0;32m     12\u001b[0m         \u001b[0mnumerator\u001b[0m \u001b[1;33m=\u001b[0m \u001b[1;36m0\u001b[0m\u001b[1;33m\u001b[0m\u001b[1;33m\u001b[0m\u001b[0m\n\u001b[0;32m     13\u001b[0m         \u001b[0mdenominator\u001b[0m \u001b[1;33m=\u001b[0m \u001b[1;36m0\u001b[0m\u001b[1;33m\u001b[0m\u001b[1;33m\u001b[0m\u001b[0m\n\u001b[1;32m---> 14\u001b[1;33m         \u001b[0mtop_k_i\u001b[0m \u001b[1;33m=\u001b[0m \u001b[0mlist\u001b[0m\u001b[1;33m(\u001b[0m\u001b[1;33m(\u001b[0m\u001b[0mnp\u001b[0m\u001b[1;33m.\u001b[0m\u001b[0marray\u001b[0m\u001b[1;33m(\u001b[0m\u001b[0msimilarity_m\u001b[0m\u001b[1;33m[\u001b[0m\u001b[0mui\u001b[0m\u001b[1;33m,\u001b[0m \u001b[0mu_buy\u001b[0m\u001b[1;33m[\u001b[0m\u001b[0mbi\u001b[0m\u001b[1;33m]\u001b[0m\u001b[1;33m]\u001b[0m\u001b[1;33m.\u001b[0m\u001b[0mtodense\u001b[0m\u001b[1;33m(\u001b[0m\u001b[1;33m)\u001b[0m\u001b[1;33m)\u001b[0m\u001b[1;33m.\u001b[0m\u001b[0mflatten\u001b[0m\u001b[1;33m(\u001b[0m\u001b[1;33m)\u001b[0m\u001b[1;33m)\u001b[0m\u001b[1;33m.\u001b[0m\u001b[0margsort\u001b[0m\u001b[1;33m(\u001b[0m\u001b[1;33m)\u001b[0m\u001b[1;33m[\u001b[0m\u001b[1;33m:\u001b[0m\u001b[1;33m:\u001b[0m\u001b[1;33m-\u001b[0m\u001b[1;36m1\u001b[0m\u001b[1;33m]\u001b[0m\u001b[1;33m[\u001b[0m\u001b[1;36m0\u001b[0m\u001b[1;33m:\u001b[0m\u001b[0mtop_k\u001b[0m\u001b[1;33m]\u001b[0m\u001b[1;33m)\u001b[0m \u001b[1;31m# Use the k users who rated the business b and are most similar to user u_i to predict the ratings.\u001b[0m\u001b[1;33m\u001b[0m\u001b[1;33m\u001b[0m\u001b[0m\n\u001b[0m\u001b[0;32m     15\u001b[0m         \u001b[1;32mif\u001b[0m \u001b[0mui\u001b[0m \u001b[1;32min\u001b[0m \u001b[1;33m[\u001b[0m\u001b[0mu_buy\u001b[0m\u001b[1;33m[\u001b[0m\u001b[0mbi\u001b[0m\u001b[1;33m]\u001b[0m\u001b[1;33m[\u001b[0m\u001b[0mj\u001b[0m\u001b[1;33m]\u001b[0m \u001b[1;32mfor\u001b[0m \u001b[0mj\u001b[0m \u001b[1;32min\u001b[0m \u001b[0mtop_k_i\u001b[0m\u001b[1;33m]\u001b[0m\u001b[1;33m:\u001b[0m\u001b[1;33m\u001b[0m\u001b[1;33m\u001b[0m\u001b[0m\n\u001b[0;32m     16\u001b[0m             \u001b[1;31m# If u_i is in the k users who rated the business b and are most similar to user u_i to predict the ratings,\u001b[0m\u001b[1;33m\u001b[0m\u001b[1;33m\u001b[0m\u001b[1;33m\u001b[0m\u001b[0m\n",
      "\u001b[1;32mD:\\Study\\Anaconda\\lib\\site-packages\\scipy\\sparse\\_index.py\u001b[0m in \u001b[0;36m__getitem__\u001b[1;34m(self, key)\u001b[0m\n\u001b[0;32m     39\u001b[0m                 \u001b[1;32mreturn\u001b[0m \u001b[0mself\u001b[0m\u001b[1;33m.\u001b[0m\u001b[0m_get_intXslice\u001b[0m\u001b[1;33m(\u001b[0m\u001b[0mrow\u001b[0m\u001b[1;33m,\u001b[0m \u001b[0mcol\u001b[0m\u001b[1;33m)\u001b[0m\u001b[1;33m\u001b[0m\u001b[1;33m\u001b[0m\u001b[0m\n\u001b[0;32m     40\u001b[0m             \u001b[1;32melif\u001b[0m \u001b[0mcol\u001b[0m\u001b[1;33m.\u001b[0m\u001b[0mndim\u001b[0m \u001b[1;33m==\u001b[0m \u001b[1;36m1\u001b[0m\u001b[1;33m:\u001b[0m\u001b[1;33m\u001b[0m\u001b[1;33m\u001b[0m\u001b[0m\n\u001b[1;32m---> 41\u001b[1;33m                 \u001b[1;32mreturn\u001b[0m \u001b[0mself\u001b[0m\u001b[1;33m.\u001b[0m\u001b[0m_get_intXarray\u001b[0m\u001b[1;33m(\u001b[0m\u001b[0mrow\u001b[0m\u001b[1;33m,\u001b[0m \u001b[0mcol\u001b[0m\u001b[1;33m)\u001b[0m\u001b[1;33m\u001b[0m\u001b[1;33m\u001b[0m\u001b[0m\n\u001b[0m\u001b[0;32m     42\u001b[0m             \u001b[1;32mraise\u001b[0m \u001b[0mIndexError\u001b[0m\u001b[1;33m(\u001b[0m\u001b[1;34m'index results in >2 dimensions'\u001b[0m\u001b[1;33m)\u001b[0m\u001b[1;33m\u001b[0m\u001b[1;33m\u001b[0m\u001b[0m\n\u001b[0;32m     43\u001b[0m         \u001b[1;32melif\u001b[0m \u001b[0misinstance\u001b[0m\u001b[1;33m(\u001b[0m\u001b[0mrow\u001b[0m\u001b[1;33m,\u001b[0m \u001b[0mslice\u001b[0m\u001b[1;33m)\u001b[0m\u001b[1;33m:\u001b[0m\u001b[1;33m\u001b[0m\u001b[1;33m\u001b[0m\u001b[0m\n",
      "\u001b[1;32mD:\\Study\\Anaconda\\lib\\site-packages\\scipy\\sparse\\csc.py\u001b[0m in \u001b[0;36m_get_intXarray\u001b[1;34m(self, row, col)\u001b[0m\n\u001b[0;32m    205\u001b[0m \u001b[1;33m\u001b[0m\u001b[0m\n\u001b[0;32m    206\u001b[0m     \u001b[1;32mdef\u001b[0m \u001b[0m_get_intXarray\u001b[0m\u001b[1;33m(\u001b[0m\u001b[0mself\u001b[0m\u001b[1;33m,\u001b[0m \u001b[0mrow\u001b[0m\u001b[1;33m,\u001b[0m \u001b[0mcol\u001b[0m\u001b[1;33m)\u001b[0m\u001b[1;33m:\u001b[0m\u001b[1;33m\u001b[0m\u001b[1;33m\u001b[0m\u001b[0m\n\u001b[1;32m--> 207\u001b[1;33m         \u001b[1;32mreturn\u001b[0m \u001b[0mself\u001b[0m\u001b[1;33m.\u001b[0m\u001b[0m_major_index_fancy\u001b[0m\u001b[1;33m(\u001b[0m\u001b[0mcol\u001b[0m\u001b[1;33m)\u001b[0m\u001b[1;33m.\u001b[0m\u001b[0m_get_submatrix\u001b[0m\u001b[1;33m(\u001b[0m\u001b[0mminor\u001b[0m\u001b[1;33m=\u001b[0m\u001b[0mrow\u001b[0m\u001b[1;33m)\u001b[0m\u001b[1;33m\u001b[0m\u001b[1;33m\u001b[0m\u001b[0m\n\u001b[0m\u001b[0;32m    208\u001b[0m \u001b[1;33m\u001b[0m\u001b[0m\n\u001b[0;32m    209\u001b[0m     \u001b[1;32mdef\u001b[0m \u001b[0m_get_intXslice\u001b[0m\u001b[1;33m(\u001b[0m\u001b[0mself\u001b[0m\u001b[1;33m,\u001b[0m \u001b[0mrow\u001b[0m\u001b[1;33m,\u001b[0m \u001b[0mcol\u001b[0m\u001b[1;33m)\u001b[0m\u001b[1;33m:\u001b[0m\u001b[1;33m\u001b[0m\u001b[1;33m\u001b[0m\u001b[0m\n",
      "\u001b[1;32mD:\\Study\\Anaconda\\lib\\site-packages\\scipy\\sparse\\compressed.py\u001b[0m in \u001b[0;36m_get_submatrix\u001b[1;34m(self, major, minor, copy)\u001b[0m\n\u001b[0;32m    787\u001b[0m             \u001b[1;32mreturn\u001b[0m \u001b[0mself\u001b[0m\u001b[1;33m.\u001b[0m\u001b[0mcopy\u001b[0m\u001b[1;33m(\u001b[0m\u001b[1;33m)\u001b[0m \u001b[1;32mif\u001b[0m \u001b[0mcopy\u001b[0m \u001b[1;32melse\u001b[0m \u001b[0mself\u001b[0m\u001b[1;33m\u001b[0m\u001b[1;33m\u001b[0m\u001b[0m\n\u001b[0;32m    788\u001b[0m \u001b[1;33m\u001b[0m\u001b[0m\n\u001b[1;32m--> 789\u001b[1;33m         indptr, indices, data = get_csr_submatrix(\n\u001b[0m\u001b[0;32m    790\u001b[0m             M, N, self.indptr, self.indices, self.data, i0, i1, j0, j1)\n\u001b[0;32m    791\u001b[0m \u001b[1;33m\u001b[0m\u001b[0m\n",
      "\u001b[1;31mKeyboardInterrupt\u001b[0m: "
     ]
    }
   ],
   "source": [
    "pred_train_df = get_pred(training, similarity_m, 20) \n",
    "pred_train_df"
   ]
  },
  {
   "cell_type": "code",
   "execution_count": null,
   "metadata": {},
   "outputs": [
    {
     "name": "stdout",
     "output_type": "stream",
     "text": [
      "The overall RMSE on the test data is 1.0687550632441847\n"
     ]
    }
   ],
   "source": [
    "RMSE_train = (sum((pred_train_df['prediction'] - training['rating'])**2) / pred_train_df.shape[0])**(1/2)\n",
    "print('The overall RMSE on the train data is %s'%RMSE_train)"
   ]
  },
  {
   "cell_type": "code",
   "execution_count": 181,
   "metadata": {},
   "outputs": [
    {
     "data": {
      "text/html": [
       "<div>\n",
       "<style scoped>\n",
       "    .dataframe tbody tr th:only-of-type {\n",
       "        vertical-align: middle;\n",
       "    }\n",
       "\n",
       "    .dataframe tbody tr th {\n",
       "        vertical-align: top;\n",
       "    }\n",
       "\n",
       "    .dataframe thead th {\n",
       "        text-align: right;\n",
       "    }\n",
       "</style>\n",
       "<table border=\"1\" class=\"dataframe\">\n",
       "  <thead>\n",
       "    <tr style=\"text-align: right;\">\n",
       "      <th></th>\n",
       "      <th>userId</th>\n",
       "      <th>businessId</th>\n",
       "      <th>prediction</th>\n",
       "    </tr>\n",
       "  </thead>\n",
       "  <tbody>\n",
       "    <tr>\n",
       "      <th>0</th>\n",
       "      <td>27340</td>\n",
       "      <td>5468</td>\n",
       "      <td>4.599344</td>\n",
       "    </tr>\n",
       "    <tr>\n",
       "      <th>1</th>\n",
       "      <td>4544</td>\n",
       "      <td>6224</td>\n",
       "      <td>3.289313</td>\n",
       "    </tr>\n",
       "    <tr>\n",
       "      <th>2</th>\n",
       "      <td>20966</td>\n",
       "      <td>372</td>\n",
       "      <td>4.694030</td>\n",
       "    </tr>\n",
       "    <tr>\n",
       "      <th>3</th>\n",
       "      <td>14194</td>\n",
       "      <td>7448</td>\n",
       "      <td>3.962721</td>\n",
       "    </tr>\n",
       "    <tr>\n",
       "      <th>4</th>\n",
       "      <td>16673</td>\n",
       "      <td>329</td>\n",
       "      <td>4.352063</td>\n",
       "    </tr>\n",
       "    <tr>\n",
       "      <th>...</th>\n",
       "      <td>...</td>\n",
       "      <td>...</td>\n",
       "      <td>...</td>\n",
       "    </tr>\n",
       "    <tr>\n",
       "      <th>44354</th>\n",
       "      <td>57748</td>\n",
       "      <td>9415</td>\n",
       "      <td>0.000000</td>\n",
       "    </tr>\n",
       "    <tr>\n",
       "      <th>44355</th>\n",
       "      <td>42697</td>\n",
       "      <td>3371</td>\n",
       "      <td>5.000000</td>\n",
       "    </tr>\n",
       "    <tr>\n",
       "      <th>44356</th>\n",
       "      <td>528</td>\n",
       "      <td>8350</td>\n",
       "      <td>0.000000</td>\n",
       "    </tr>\n",
       "    <tr>\n",
       "      <th>44357</th>\n",
       "      <td>5397</td>\n",
       "      <td>2534</td>\n",
       "      <td>0.000000</td>\n",
       "    </tr>\n",
       "    <tr>\n",
       "      <th>44358</th>\n",
       "      <td>1275</td>\n",
       "      <td>3444</td>\n",
       "      <td>4.152175</td>\n",
       "    </tr>\n",
       "  </tbody>\n",
       "</table>\n",
       "<p>44359 rows × 3 columns</p>\n",
       "</div>"
      ],
      "text/plain": [
       "       userId  businessId  prediction\n",
       "0       27340        5468    4.599344\n",
       "1        4544        6224    3.289313\n",
       "2       20966         372    4.694030\n",
       "3       14194        7448    3.962721\n",
       "4       16673         329    4.352063\n",
       "...       ...         ...         ...\n",
       "44354   57748        9415    0.000000\n",
       "44355   42697        3371    5.000000\n",
       "44356     528        8350    0.000000\n",
       "44357    5397        2534    0.000000\n",
       "44358    1275        3444    4.152175\n",
       "\n",
       "[44359 rows x 3 columns]"
      ]
     },
     "execution_count": 181,
     "metadata": {},
     "output_type": "execute_result"
    }
   ],
   "source": [
    "pred_test_df = get_pred(test, similarity_m, 20) \n",
    "pred_test_df"
   ]
  },
  {
   "cell_type": "code",
   "execution_count": 182,
   "metadata": {},
   "outputs": [
    {
     "name": "stdout",
     "output_type": "stream",
     "text": [
      "The overall RMSE on the test data is 2.2253182126618145\n"
     ]
    }
   ],
   "source": [
    "RMSE_test = (sum((pred_test_df['prediction'] - test['rating'])**2) / pred_test_df.shape[0])**(1/2)\n",
    "print('The overall RMSE on the test data is %s'%RMSE_test)"
   ]
  },
  {
   "cell_type": "markdown",
   "metadata": {},
   "source": [
    "## Compute the RMSEs for both the training set and test set by using the method with penalty:"
   ]
  },
  {
   "cell_type": "markdown",
   "metadata": {},
   "source": [
    "### Calculate the normalized popularity for each business:"
   ]
  },
  {
   "cell_type": "code",
   "execution_count": 183,
   "metadata": {
    "ExecuteTime": {
     "end_time": "2020-08-21T02:53:50.287008Z",
     "start_time": "2020-08-21T02:53:20.335100Z"
    }
   },
   "outputs": [],
   "source": [
    "# Calculate the norm popularity for each business, which is how many times each business is rated by users.\n",
    "training_popular = training.groupby('businessId').size().reset_index(name = 'popular')\n",
    "training_popular['popular'] = (training_popular['popular'] -  np.min(training_popular['popular']))/ (np.max(training_popular['popular'])-np.min(training_popular['popular']))"
   ]
  },
  {
   "cell_type": "code",
   "execution_count": 184,
   "metadata": {},
   "outputs": [],
   "source": [
    "# Calculate the norm popularity for each business, which is how many times each business is rated by users.\n",
    "test_popular = test.groupby('businessId').size().reset_index(name = 'popular')\n",
    "test_popular['popular'] = (test_popular['popular'] - np.min(test_popular['popular']))/ (np.max(test_popular['popular'])-np.min(test_popular['popular']))"
   ]
  },
  {
   "cell_type": "code",
   "execution_count": 185,
   "metadata": {},
   "outputs": [],
   "source": [
    "def get_pred_with_penalty(rt_df, similarity_m, top_k, threshold, popular):\n",
    "    # For each business in test set, find users who have rated it.\n",
    "    u_buy = {}\n",
    "    for b in list(rt_df['businessId']):\n",
    "        u_buy[b] = list(rt_df[rt_df['businessId'] == b]['userId'])\n",
    "        \n",
    "    # Calculate the predictive ratings for the given rating dataframe rt_df.\n",
    "    predict = []\n",
    "    for i in rt_df.index:\n",
    "        ui = rt_df['userId'][i]\n",
    "        bi = rt_df['businessId'][i]\n",
    "        numerator = 0\n",
    "        denominator = 0\n",
    "        top_k_i = list((np.array(similarity_m[ui, u_buy[bi]].todense()).flatten()).argsort()[::-1][0:top_k]) # Use the k users who rated the business b and are most similar to user u_i to predict the ratings.\n",
    "        if ui in [u_buy[bi][j] for j in top_k_i]:\n",
    "            # If u_i is in the k users who rated the business b and are most similar to user u_i to predict the ratings,\n",
    "            # we should delete from the candidate users since we don't want to use u_i's information to predict u_i's rating. \n",
    "            top_k_i = list((np.array(similarity_m[ui, u_buy[bi]].todense()).flatten()).argsort()[::-1][1:top_k+1])\n",
    "        for u in [u_buy[bi][j] for j in top_k_i]:\n",
    "            if float(popular[popular['businessId'] == bi]['popular']) > threshold:\n",
    "                numerator += similarity_m[ui, u] * float(rt_df[(rt_df['userId'] == u) & (rt_df['businessId'] == bi)]['rating']) * float(popular[popular['businessId'] == bi]['popular'])\n",
    "            else:\n",
    "                numerator += similarity_m[ui, u] * float(rt_df[(rt_df['userId'] == u) & (rt_df['businessId'] == bi)]['rating']) / float(popular[popular['businessId'] == bi]['popular'])\n",
    "            denominator += similarity_m[ui, u]\n",
    "        if denominator == 0:\n",
    "            predict.append(0)\n",
    "        else:\n",
    "            predict.append(numerator/denominator)\n",
    "    pred_df = pd.DataFrame()\n",
    "    pred_df['userId'] = list(rt_df['userId'])\n",
    "    pred_df['businessId'] = list(rt_df['businessId'])\n",
    "    pred_df['prediction'] = predict\n",
    "    pred_df.index = rt_df.index\n",
    "    return pred_df"
   ]
  },
  {
   "cell_type": "code",
   "execution_count": 141,
   "metadata": {},
   "outputs": [
    {
     "data": {
      "text/html": [
       "<div>\n",
       "<style scoped>\n",
       "    .dataframe tbody tr th:only-of-type {\n",
       "        vertical-align: middle;\n",
       "    }\n",
       "\n",
       "    .dataframe tbody tr th {\n",
       "        vertical-align: top;\n",
       "    }\n",
       "\n",
       "    .dataframe thead th {\n",
       "        text-align: right;\n",
       "    }\n",
       "</style>\n",
       "<table border=\"1\" class=\"dataframe\">\n",
       "  <thead>\n",
       "    <tr style=\"text-align: right;\">\n",
       "      <th></th>\n",
       "      <th>userId</th>\n",
       "      <th>businessId</th>\n",
       "      <th>prediction</th>\n",
       "    </tr>\n",
       "  </thead>\n",
       "  <tbody>\n",
       "    <tr>\n",
       "      <th>0</th>\n",
       "      <td>7962</td>\n",
       "      <td>5291</td>\n",
       "      <td>4.456879</td>\n",
       "    </tr>\n",
       "    <tr>\n",
       "      <th>1</th>\n",
       "      <td>935</td>\n",
       "      <td>2146</td>\n",
       "      <td>4.412000</td>\n",
       "    </tr>\n",
       "    <tr>\n",
       "      <th>2</th>\n",
       "      <td>3421</td>\n",
       "      <td>4333</td>\n",
       "      <td>4.215910</td>\n",
       "    </tr>\n",
       "    <tr>\n",
       "      <th>3</th>\n",
       "      <td>895</td>\n",
       "      <td>2348</td>\n",
       "      <td>4.832512</td>\n",
       "    </tr>\n",
       "    <tr>\n",
       "      <th>4</th>\n",
       "      <td>2511</td>\n",
       "      <td>6201</td>\n",
       "      <td>4.527690</td>\n",
       "    </tr>\n",
       "    <tr>\n",
       "      <th>...</th>\n",
       "      <td>...</td>\n",
       "      <td>...</td>\n",
       "      <td>...</td>\n",
       "    </tr>\n",
       "    <tr>\n",
       "      <th>85079</th>\n",
       "      <td>1975</td>\n",
       "      <td>1219</td>\n",
       "      <td>4.670157</td>\n",
       "    </tr>\n",
       "    <tr>\n",
       "      <th>85080</th>\n",
       "      <td>2280</td>\n",
       "      <td>3135</td>\n",
       "      <td>2.837746</td>\n",
       "    </tr>\n",
       "    <tr>\n",
       "      <th>85081</th>\n",
       "      <td>19795</td>\n",
       "      <td>1961</td>\n",
       "      <td>4.483163</td>\n",
       "    </tr>\n",
       "    <tr>\n",
       "      <th>85082</th>\n",
       "      <td>7269</td>\n",
       "      <td>2737</td>\n",
       "      <td>4.697386</td>\n",
       "    </tr>\n",
       "    <tr>\n",
       "      <th>85083</th>\n",
       "      <td>4335</td>\n",
       "      <td>3845</td>\n",
       "      <td>4.675303</td>\n",
       "    </tr>\n",
       "  </tbody>\n",
       "</table>\n",
       "<p>85084 rows × 3 columns</p>\n",
       "</div>"
      ],
      "text/plain": [
       "       userId  businessId  prediction\n",
       "0        7962        5291    4.456879\n",
       "1         935        2146    4.412000\n",
       "2        3421        4333    4.215910\n",
       "3         895        2348    4.832512\n",
       "4        2511        6201    4.527690\n",
       "...       ...         ...         ...\n",
       "85079    1975        1219    4.670157\n",
       "85080    2280        3135    2.837746\n",
       "85081   19795        1961    4.483163\n",
       "85082    7269        2737    4.697386\n",
       "85083    4335        3845    4.675303\n",
       "\n",
       "[85084 rows x 3 columns]"
      ]
     },
     "execution_count": 141,
     "metadata": {},
     "output_type": "execute_result"
    }
   ],
   "source": [
    "pred_train_penalty_df = get_pred_with_penalty(training, similarity_m, 20, 0.6, training_popular) \n",
    "pred_train_penalty_df"
   ]
  },
  {
   "cell_type": "code",
   "execution_count": 143,
   "metadata": {},
   "outputs": [
    {
     "data": {
      "text/plain": [
       "0        4.456879\n",
       "1        4.412000\n",
       "2        4.215910\n",
       "3        4.832512\n",
       "4        4.527690\n",
       "           ...   \n",
       "85079    4.670157\n",
       "85080    2.837746\n",
       "85081    4.483163\n",
       "85082    4.697386\n",
       "85083    4.675303\n",
       "Name: prediction, Length: 85084, dtype: float64"
      ]
     },
     "execution_count": 143,
     "metadata": {},
     "output_type": "execute_result"
    }
   ],
   "source": [
    "pred_train_penalty_df['prediction']"
   ]
  },
  {
   "cell_type": "code",
   "execution_count": 145,
   "metadata": {},
   "outputs": [
    {
     "name": "stdout",
     "output_type": "stream",
     "text": [
      "The overall RMSE on the test data is 1.0715517656184912\n"
     ]
    }
   ],
   "source": [
    "RMSE_train_penalty = (sum((pred_train_penalty_df['prediction'] - training['rating'])**2) / pred_train_penalty_df.shape[0])**(1/2)\n",
    "print('The overall RMSE on the test data is %s'%RMSE_train_penalty)"
   ]
  },
  {
   "cell_type": "code",
   "execution_count": 186,
   "metadata": {},
   "outputs": [
    {
     "data": {
      "text/html": [
       "<div>\n",
       "<style scoped>\n",
       "    .dataframe tbody tr th:only-of-type {\n",
       "        vertical-align: middle;\n",
       "    }\n",
       "\n",
       "    .dataframe tbody tr th {\n",
       "        vertical-align: top;\n",
       "    }\n",
       "\n",
       "    .dataframe thead th {\n",
       "        text-align: right;\n",
       "    }\n",
       "</style>\n",
       "<table border=\"1\" class=\"dataframe\">\n",
       "  <thead>\n",
       "    <tr style=\"text-align: right;\">\n",
       "      <th></th>\n",
       "      <th>userId</th>\n",
       "      <th>businessId</th>\n",
       "      <th>prediction</th>\n",
       "    </tr>\n",
       "  </thead>\n",
       "  <tbody>\n",
       "    <tr>\n",
       "      <th>0</th>\n",
       "      <td>27340</td>\n",
       "      <td>5468</td>\n",
       "      <td>67.150426</td>\n",
       "    </tr>\n",
       "    <tr>\n",
       "      <th>1</th>\n",
       "      <td>4544</td>\n",
       "      <td>6224</td>\n",
       "      <td>38.419180</td>\n",
       "    </tr>\n",
       "    <tr>\n",
       "      <th>2</th>\n",
       "      <td>20966</td>\n",
       "      <td>372</td>\n",
       "      <td>195.808120</td>\n",
       "    </tr>\n",
       "    <tr>\n",
       "      <th>3</th>\n",
       "      <td>14194</td>\n",
       "      <td>7448</td>\n",
       "      <td>19.285242</td>\n",
       "    </tr>\n",
       "    <tr>\n",
       "      <th>4</th>\n",
       "      <td>16673</td>\n",
       "      <td>329</td>\n",
       "      <td>45.385802</td>\n",
       "    </tr>\n",
       "    <tr>\n",
       "      <th>...</th>\n",
       "      <td>...</td>\n",
       "      <td>...</td>\n",
       "      <td>...</td>\n",
       "    </tr>\n",
       "    <tr>\n",
       "      <th>44354</th>\n",
       "      <td>57748</td>\n",
       "      <td>9415</td>\n",
       "      <td>0.000000</td>\n",
       "    </tr>\n",
       "    <tr>\n",
       "      <th>44355</th>\n",
       "      <td>42697</td>\n",
       "      <td>3371</td>\n",
       "      <td>121.666667</td>\n",
       "    </tr>\n",
       "    <tr>\n",
       "      <th>44356</th>\n",
       "      <td>528</td>\n",
       "      <td>8350</td>\n",
       "      <td>0.000000</td>\n",
       "    </tr>\n",
       "    <tr>\n",
       "      <th>44357</th>\n",
       "      <td>5397</td>\n",
       "      <td>2534</td>\n",
       "      <td>0.000000</td>\n",
       "    </tr>\n",
       "    <tr>\n",
       "      <th>44358</th>\n",
       "      <td>1275</td>\n",
       "      <td>3444</td>\n",
       "      <td>25.259062</td>\n",
       "    </tr>\n",
       "  </tbody>\n",
       "</table>\n",
       "<p>44359 rows × 3 columns</p>\n",
       "</div>"
      ],
      "text/plain": [
       "       userId  businessId  prediction\n",
       "0       27340        5468   67.150426\n",
       "1        4544        6224   38.419180\n",
       "2       20966         372  195.808120\n",
       "3       14194        7448   19.285242\n",
       "4       16673         329   45.385802\n",
       "...       ...         ...         ...\n",
       "44354   57748        9415    0.000000\n",
       "44355   42697        3371  121.666667\n",
       "44356     528        8350    0.000000\n",
       "44357    5397        2534    0.000000\n",
       "44358    1275        3444   25.259062\n",
       "\n",
       "[44359 rows x 3 columns]"
      ]
     },
     "execution_count": 186,
     "metadata": {},
     "output_type": "execute_result"
    }
   ],
   "source": [
    "pred_test_penalty_df = get_pred_with_penalty(test, similarity_m, 20, 0.6, test_popular) \n",
    "pred_test_penalty_df"
   ]
  },
  {
   "cell_type": "markdown",
   "metadata": {},
   "source": [
    "Normalize the predictive ratings to the interval [0, 5]:"
   ]
  },
  {
   "cell_type": "code",
   "execution_count": 204,
   "metadata": {},
   "outputs": [],
   "source": [
    "k = (5-0) / (np.max(pred_test_penalty_df['prediction']) - np.min(pred_test_penalty_df['prediction']))\n",
    "pred_test_penalty_df['prediction'] = k*(pred_test_penalty_df['prediction']-np.min(pred_test_penalty_df['prediction']))"
   ]
  },
  {
   "cell_type": "code",
   "execution_count": 206,
   "metadata": {},
   "outputs": [
    {
     "name": "stdout",
     "output_type": "stream",
     "text": [
      "The overall RMSE on the test data is 3.673848792136394\n"
     ]
    }
   ],
   "source": [
    "RMSE_test_penalty = (sum((pred_test_penalty_df['prediction'] - test['rating'])**2) / pred_test_penalty_df.shape[0])**(1/2)\n",
    "print('The overall RMSE on the test data is %s'%RMSE_test_penalty)"
   ]
  },
  {
   "cell_type": "markdown",
   "metadata": {},
   "source": [
    "## Make recommendations for 10 random user in the test set:"
   ]
  },
  {
   "cell_type": "markdown",
   "metadata": {},
   "source": [
    "For each user in the test set, we should find out the businesses they havn't rated yet:"
   ]
  },
  {
   "cell_type": "code",
   "execution_count": 207,
   "metadata": {},
   "outputs": [],
   "source": [
    "u_no_rate_test = {}\n",
    "bid_test = np.unique(list(test['businessId']))\n",
    "group_u_test = test.groupby('userId')\n",
    "for name, group in group_u_test:\n",
    "    u_no_rate_test[name] = list(set(bid_test) - set(list(group['businessId'])))"
   ]
  },
  {
   "cell_type": "code",
   "execution_count": 208,
   "metadata": {},
   "outputs": [],
   "source": [
    "# Randomly select 100 users as target users\n",
    "random.seed(0)\n",
    "target_u = random.sample(list(u_no_rate_test.keys()), 10)"
   ]
  },
  {
   "cell_type": "markdown",
   "metadata": {},
   "source": [
    "Make recommendations for 10 random users by using the original method:"
   ]
  },
  {
   "cell_type": "code",
   "execution_count": 209,
   "metadata": {},
   "outputs": [],
   "source": [
    "rec = {}\n",
    "for tu in target_u: # For each user in the target users.\n",
    "    tu_no_rate = u_no_rate_test[tu] # Find all the businesses that hasn't been rated by user tu.\n",
    "\n",
    "    # Find users who has rated the businesses that hasn't been rated by user tu.\n",
    "    u_buy = {}\n",
    "    for b in tu_no_rate:\n",
    "        u_buy[b] = list(test[test['businessId'] == b]['userId'])\n",
    "\n",
    "    tu_rec = {}\n",
    "\n",
    "    for b in tu_no_rate: # For each business b that has not been rated by user tu\n",
    "        numerator = 0\n",
    "        denominator = 0\n",
    "        top_k_i = list((np.array(similarity_m[tu, u_buy[b]].todense()).flatten()).argsort()[::-1][0:20])\n",
    "        # print('u_buy[b]...')\n",
    "        # print(u_buy[b])\n",
    "        # print('top_20...')\n",
    "        # print([u_buy[b][j] for j in top_k_i])\n",
    "        for u_rated in [u_buy[b][j] for j in top_k_i]: # For each user who has rated buisness b \n",
    "            numerator += similarity_m[tu, u_rated] * float(test[(test['userId'] == u_rated) & (test['businessId'] == b)]['rating'])\n",
    "            denominator += similarity_m[tu, u_rated]\n",
    "        if denominator == 0:\n",
    "            tu_rec[b] = 0\n",
    "        else:\n",
    "            tu_rec[b] = numerator/ denominator\n",
    "    \n",
    "    rec[tu] = tu_rec"
   ]
  },
  {
   "cell_type": "code",
   "execution_count": 210,
   "metadata": {},
   "outputs": [],
   "source": [
    "final_rec = {}\n",
    "for u in rec.keys():\n",
    "    final_rec[u] = sorted(rec[u].items(), key = lambda x:x[1],reverse = True)[0:20]"
   ]
  },
  {
   "cell_type": "markdown",
   "metadata": {},
   "source": [
    "Make recommendations for 10 random users by using the penalty method:"
   ]
  },
  {
   "cell_type": "code",
   "execution_count": 211,
   "metadata": {},
   "outputs": [],
   "source": [
    "rec_penalty = {}\n",
    "for tu in target_u: # For each user in the target users.\n",
    "    tu_no_rate = u_no_rate_test[tu] # Find all the businesses that hasn't been rated by user tu.\n",
    "\n",
    "    # Find users who has rated the businesses that hasn't been rated by user tu.\n",
    "    u_buy = {}\n",
    "    for b in tu_no_rate:\n",
    "        u_buy[b] = list(test[test['businessId'] == b]['userId'])\n",
    "\n",
    "    tu_rec = {}\n",
    "\n",
    "    for b in tu_no_rate: # For each business b that has not been rated by user tu\n",
    "        numerator = 0\n",
    "        denominator = 0\n",
    "        top_k_i = list((np.array(similarity_m[tu, u_buy[b]].todense()).flatten()).argsort()[::-1][0:20])\n",
    "        # print('u_buy[b]...')\n",
    "        # print(u_buy[b])\n",
    "        # print('top_20...')\n",
    "        # print([u_buy[b][j] for j in top_k_i])\n",
    "        for u_rated in [u_buy[b][j] for j in top_k_i]: # For each user who has rated buisness b\n",
    "            if float(test_popular[test_popular['businessId'] == b]['popular']) > 0.5:\n",
    "                numerator += similarity_m[tu, u_rated] * float(test[(test['userId'] == u_rated) & (test['businessId'] == b)]['rating']) * float(test_popular[test_popular['businessId'] == b]['popular']) \n",
    "            else:\n",
    "                numerator += similarity_m[tu, u_rated] * float(test[(test['userId'] == u_rated) & (test['businessId'] == b)]['rating']) / float(test_popular[test_popular['businessId'] == b]['popular']) \n",
    "            denominator += similarity_m[tu, u_rated]\n",
    "        if denominator == 0:\n",
    "            tu_rec[b] = 0\n",
    "        else:\n",
    "            tu_rec[b] = numerator / denominator\n",
    "    \n",
    "    rec_penalty[tu] = tu_rec"
   ]
  },
  {
   "cell_type": "markdown",
   "metadata": {},
   "source": [
    "Normalize the predictive ratings to the interval [0, 5]:"
   ]
  },
  {
   "cell_type": "code",
   "execution_count": 212,
   "metadata": {},
   "outputs": [
    {
     "ename": "ZeroDivisionError",
     "evalue": "division by zero",
     "output_type": "error",
     "traceback": [
      "\u001b[1;31m---------------------------------------------------------------------------\u001b[0m",
      "\u001b[1;31mZeroDivisionError\u001b[0m                         Traceback (most recent call last)",
      "\u001b[1;32m<ipython-input-212-c30442defb6d>\u001b[0m in \u001b[0;36m<module>\u001b[1;34m\u001b[0m\n\u001b[0;32m      1\u001b[0m \u001b[1;32mfor\u001b[0m \u001b[0mu\u001b[0m \u001b[1;32min\u001b[0m \u001b[0mrec_penalty\u001b[0m\u001b[1;33m:\u001b[0m\u001b[1;33m\u001b[0m\u001b[1;33m\u001b[0m\u001b[0m\n\u001b[0;32m      2\u001b[0m     \u001b[0mr_l\u001b[0m \u001b[1;33m=\u001b[0m \u001b[0mlist\u001b[0m\u001b[1;33m(\u001b[0m\u001b[0mrec_penalty\u001b[0m\u001b[1;33m[\u001b[0m\u001b[0mu\u001b[0m\u001b[1;33m]\u001b[0m\u001b[1;33m.\u001b[0m\u001b[0mvalues\u001b[0m\u001b[1;33m(\u001b[0m\u001b[1;33m)\u001b[0m\u001b[1;33m)\u001b[0m\u001b[1;33m\u001b[0m\u001b[1;33m\u001b[0m\u001b[0m\n\u001b[1;32m----> 3\u001b[1;33m     \u001b[0mk\u001b[0m \u001b[1;33m=\u001b[0m \u001b[1;33m(\u001b[0m\u001b[1;36m5\u001b[0m\u001b[1;33m-\u001b[0m\u001b[1;36m0\u001b[0m\u001b[1;33m)\u001b[0m \u001b[1;33m/\u001b[0m \u001b[1;33m(\u001b[0m\u001b[0mmax\u001b[0m\u001b[1;33m(\u001b[0m\u001b[0mr_l\u001b[0m\u001b[1;33m)\u001b[0m \u001b[1;33m-\u001b[0m \u001b[0mmin\u001b[0m\u001b[1;33m(\u001b[0m\u001b[0mr_l\u001b[0m\u001b[1;33m)\u001b[0m\u001b[1;33m)\u001b[0m\u001b[1;33m\u001b[0m\u001b[1;33m\u001b[0m\u001b[0m\n\u001b[0m\u001b[0;32m      4\u001b[0m     \u001b[0mr_l\u001b[0m \u001b[1;33m=\u001b[0m \u001b[1;33m[\u001b[0m\u001b[0mk\u001b[0m\u001b[1;33m*\u001b[0m\u001b[1;33m(\u001b[0m\u001b[0mx\u001b[0m\u001b[1;33m-\u001b[0m\u001b[0mmin\u001b[0m\u001b[1;33m(\u001b[0m\u001b[0mr_l\u001b[0m\u001b[1;33m)\u001b[0m\u001b[1;33m)\u001b[0m \u001b[1;32mfor\u001b[0m \u001b[0mx\u001b[0m \u001b[1;32min\u001b[0m \u001b[0mr_l\u001b[0m\u001b[1;33m]\u001b[0m\u001b[1;33m\u001b[0m\u001b[1;33m\u001b[0m\u001b[0m\n\u001b[0;32m      5\u001b[0m     \u001b[0mj\u001b[0m \u001b[1;33m=\u001b[0m \u001b[1;36m0\u001b[0m\u001b[1;33m\u001b[0m\u001b[1;33m\u001b[0m\u001b[0m\n",
      "\u001b[1;31mZeroDivisionError\u001b[0m: division by zero"
     ]
    }
   ],
   "source": [
    "for u in rec_penalty:\n",
    "    r_l = list(rec_penalty[u].values())\n",
    "    if max(r_l) == min(r_l):\n",
    "        k = 0\n",
    "    else:\n",
    "        k = (5-0) / (max(r_l) - min(r_l))\n",
    "    r_l = [k*(x-min(r_l)) for x in r_l]\n",
    "    j = 0\n",
    "    for b in rec_penalty[u].keys():\n",
    "        rec_penalty[u][b] = r_l[j]\n",
    "        j += 1"
   ]
  },
  {
   "cell_type": "code",
   "execution_count": 216,
   "metadata": {},
   "outputs": [],
   "source": [
    "final_rec_penalty = {}\n",
    "for u in rec_penalty.keys():\n",
    "    final_rec_penalty[u] = sorted(rec_penalty[u].items(), key = lambda x:x[1],reverse = True)[0:20]"
   ]
  },
  {
   "cell_type": "markdown",
   "metadata": {},
   "source": [
    "## Calculate the PRUs and PRIs:"
   ]
  },
  {
   "cell_type": "markdown",
   "metadata": {},
   "source": [
    "Define a function to compute SRC:"
   ]
  },
  {
   "cell_type": "code",
   "execution_count": 217,
   "metadata": {},
   "outputs": [],
   "source": [
    "def get_SRC(recom_list, rank_posi, business_popular):\n",
    "    # popularity list\n",
    "    popularity = []\n",
    "    for pair in recom_list:\n",
    "        popularity.append(float(business_popular[business_popular['businessId'] == pair[0]]['popular']))\n",
    "    \n",
    "    SRC,_ = stats.spearmanr(rank_posi, popularity)\n",
    "    \n",
    "    return SRC"
   ]
  },
  {
   "cell_type": "markdown",
   "metadata": {},
   "source": [
    "Compute the PRU and PRI for the original method:"
   ]
  },
  {
   "cell_type": "code",
   "execution_count": 218,
   "metadata": {},
   "outputs": [
    {
     "data": {
      "text/plain": [
       "-0.009387276698548127"
      ]
     },
     "execution_count": 218,
     "metadata": {},
     "output_type": "execute_result"
    }
   ],
   "source": [
    "SRC_list = []\n",
    "SRC = 0\n",
    "pop_list = []\n",
    "for uid in final_rec:\n",
    "    #print(uid)\n",
    "    rank_posi = list(np.arange(1, 21))\n",
    "    SRC = get_SRC(final_rec[uid], rank_posi, test_popular)\n",
    "    SRC_list.append(SRC)\n",
    "    \n",
    "PRU = -np.mean(SRC_list)\n",
    "PRU"
   ]
  },
  {
   "cell_type": "code",
   "execution_count": 219,
   "metadata": {},
   "outputs": [
    {
     "data": {
      "text/plain": [
       "0.021214723802199267"
      ]
     },
     "execution_count": 219,
     "metadata": {},
     "output_type": "execute_result"
    }
   ],
   "source": [
    "ave_rank = {}\n",
    "rank_count = {}\n",
    "pop = {}\n",
    "for uid in final_rec:\n",
    "    recom_list = final_rec[uid] \n",
    "    rank_posi = list(np.arange(1, 21))\n",
    "    for index in range(len(recom_list)):\n",
    "        bid = recom_list[index][0]\n",
    "        ave_rank.setdefault(bid,0)\n",
    "        rank_count.setdefault(bid,0)\n",
    "        ave_rank[bid] += rank_posi[index]\n",
    "        rank_count[bid] += 1\n",
    "\n",
    "for business in ave_rank:\n",
    "    ave_rank[business] = ave_rank[business]/rank_count[business]\n",
    "    pop.setdefault(business,0)\n",
    "    pop[business] = float(test_popular[test_popular['businessId'] == business]['popular'])\n",
    "\n",
    "\n",
    "SRC,_ = stats.spearmanr(list(ave_rank.values()), list(pop.values()))\n",
    "PRI = -SRC\n",
    "PRI"
   ]
  },
  {
   "cell_type": "markdown",
   "metadata": {},
   "source": [
    "Compute the PRU and PRI for the method with penalty:"
   ]
  },
  {
   "cell_type": "code",
   "execution_count": 220,
   "metadata": {},
   "outputs": [
    {
     "name": "stderr",
     "output_type": "stream",
     "text": [
      "D:\\Study\\Anaconda\\lib\\site-packages\\scipy\\stats\\stats.py:4196: SpearmanRConstantInputWarning: An input array is constant; the correlation coefficent is not defined.\n",
      "  warnings.warn(SpearmanRConstantInputWarning())\n"
     ]
    },
    {
     "data": {
      "text/plain": [
       "-0.558868152048498"
      ]
     },
     "execution_count": 220,
     "metadata": {},
     "output_type": "execute_result"
    }
   ],
   "source": [
    "SRC_list_penalty = []\n",
    "SRC = 0\n",
    "pop_list = []\n",
    "for uid in final_rec_penalty:\n",
    "    #print(uid)\n",
    "    rank_posi = list(np.arange(1, 21))\n",
    "    # print(final_rec_penalty)\n",
    "    SRC = get_SRC(final_rec_penalty[uid], rank_posi, test_popular)\n",
    "    if math.isnan(SRC):\n",
    "        continue\n",
    "    SRC_list_penalty.append(SRC)\n",
    "    \n",
    "PRU_penalty = -np.mean(SRC_list_penalty)\n",
    "PRU_penalty"
   ]
  },
  {
   "cell_type": "code",
   "execution_count": 221,
   "metadata": {},
   "outputs": [
    {
     "data": {
      "text/plain": [
       "-0.15567061479339828"
      ]
     },
     "execution_count": 221,
     "metadata": {},
     "output_type": "execute_result"
    }
   ],
   "source": [
    "ave_rank = {}\n",
    "rank_count = {}\n",
    "pop = {}\n",
    "for uid in final_rec_penalty:\n",
    "    recom_list = final_rec_penalty[uid] \n",
    "    rank_posi = list(np.arange(1, 21))\n",
    "    for index in range(len(recom_list)):\n",
    "        bid = recom_list[index][0]\n",
    "        ave_rank.setdefault(bid,0)\n",
    "        rank_count.setdefault(bid,0)\n",
    "        ave_rank[bid] += rank_posi[index]\n",
    "        rank_count[bid] += 1\n",
    "\n",
    "for business in ave_rank:\n",
    "    ave_rank[business] = ave_rank[business]/rank_count[business]\n",
    "    pop.setdefault(business,0)\n",
    "    pop[business] = float(test_popular[test_popular['businessId'] == business]['popular'])\n",
    "\n",
    "\n",
    "SRC,_ = stats.spearmanr(list(ave_rank.values()), list(pop.values()))\n",
    "PRI = -SRC\n",
    "PRI"
   ]
  }
 ],
 "metadata": {
  "interpreter": {
   "hash": "3817193d82d77019d9b817f14aa1b29b92bd69528e24e3d73fd22a4414cba581"
  },
  "kernelspec": {
   "display_name": "Python 3.8.5 64-bit ('base': conda)",
   "name": "python3"
  },
  "language_info": {
   "codemirror_mode": {
    "name": "ipython",
    "version": 3
   },
   "file_extension": ".py",
   "mimetype": "text/x-python",
   "name": "python",
   "nbconvert_exporter": "python",
   "pygments_lexer": "ipython3",
   "version": "3.8.5"
  },
  "toc": {
   "base_numbering": 1,
   "nav_menu": {},
   "number_sections": true,
   "sideBar": true,
   "skip_h1_title": false,
   "title_cell": "Table of Contents",
   "title_sidebar": "Contents",
   "toc_cell": false,
   "toc_position": {},
   "toc_section_display": true,
   "toc_window_display": false
  },
  "varInspector": {
   "cols": {
    "lenName": 16,
    "lenType": 16,
    "lenVar": 40
   },
   "kernels_config": {
    "python": {
     "delete_cmd_postfix": "",
     "delete_cmd_prefix": "del ",
     "library": "var_list.py",
     "varRefreshCmd": "print(var_dic_list())"
    },
    "r": {
     "delete_cmd_postfix": ") ",
     "delete_cmd_prefix": "rm(",
     "library": "var_list.r",
     "varRefreshCmd": "cat(var_dic_list()) "
    }
   },
   "types_to_exclude": [
    "module",
    "function",
    "builtin_function_or_method",
    "instance",
    "_Feature"
   ],
   "window_display": false
  }
 },
 "nbformat": 4,
 "nbformat_minor": 2
}
